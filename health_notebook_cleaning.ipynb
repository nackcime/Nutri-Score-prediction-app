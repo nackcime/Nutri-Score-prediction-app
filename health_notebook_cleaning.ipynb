{
 "cells": [
  {
   "cell_type": "code",
   "execution_count": 16,
   "id": "aa90ed0d",
   "metadata": {},
   "outputs": [],
   "source": [
    "import pandas as pd\n",
    "import numpy as np\n",
    "import matplotlib.pyplot as plt\n",
    "from sklearn.impute import SimpleImputer"
   ]
  },
  {
   "cell_type": "markdown",
   "id": "cbed8d92",
   "metadata": {},
   "source": [
    "# Chargement Jeux de données"
   ]
  },
  {
   "cell_type": "code",
   "execution_count": 148,
   "id": "ce87957d",
   "metadata": {},
   "outputs": [
    {
     "name": "stderr",
     "output_type": "stream",
     "text": [
      "/var/folders/x4/5yq5_q792r58vht_w3fmzyvh0000gn/T/ipykernel_3827/3385766680.py:1: FutureWarning: The error_bad_lines argument has been deprecated and will be removed in a future version. Use on_bad_lines in the future.\n",
      "\n",
      "\n",
      "  textFile = pd.read_csv('openfoodfacts.csv', error_bad_lines=False,low_memory=False, chunksize=10**5, sep='\\t')\n"
     ]
    }
   ],
   "source": [
    "textFile = pd.read_csv('openfoodfacts.csv', error_bad_lines=False,low_memory=False, chunksize=10**5, sep='\\t')"
   ]
  },
  {
   "cell_type": "code",
   "execution_count": 151,
   "id": "272ccda7",
   "metadata": {},
   "outputs": [],
   "source": [
    "openFood = pd.concat(textFile, ignore_index=True)"
   ]
  },
  {
   "cell_type": "markdown",
   "id": "f22f461f",
   "metadata": {},
   "source": [
    "Nombre de ligne et de colonne du dataframe"
   ]
  },
  {
   "cell_type": "code",
   "execution_count": 152,
   "id": "51d9a7d1",
   "metadata": {},
   "outputs": [
    {
     "data": {
      "text/plain": [
       "(2033614, 187)"
      ]
     },
     "execution_count": 152,
     "metadata": {},
     "output_type": "execute_result"
    }
   ],
   "source": [
    "openFood.shape"
   ]
  },
  {
   "cell_type": "code",
   "execution_count": 153,
   "id": "6d18d8a1",
   "metadata": {},
   "outputs": [
    {
     "data": {
      "text/plain": [
       "code                   object\n",
       "url                    object\n",
       "creator                object\n",
       "created_t               int64\n",
       "created_datetime       object\n",
       "                       ...   \n",
       "choline_100g          float64\n",
       "phylloquinone_100g    float64\n",
       "beta-glucan_100g      float64\n",
       "inositol_100g         float64\n",
       "carnitine_100g        float64\n",
       "Length: 187, dtype: object"
      ]
     },
     "execution_count": 153,
     "metadata": {},
     "output_type": "execute_result"
    }
   ],
   "source": [
    "openFood.dtypes"
   ]
  },
  {
   "cell_type": "code",
   "execution_count": 154,
   "id": "f6ac5559",
   "metadata": {},
   "outputs": [
    {
     "data": {
      "text/html": [
       "<div>\n",
       "<style scoped>\n",
       "    .dataframe tbody tr th:only-of-type {\n",
       "        vertical-align: middle;\n",
       "    }\n",
       "\n",
       "    .dataframe tbody tr th {\n",
       "        vertical-align: top;\n",
       "    }\n",
       "\n",
       "    .dataframe thead th {\n",
       "        text-align: right;\n",
       "    }\n",
       "</style>\n",
       "<table border=\"1\" class=\"dataframe\">\n",
       "  <thead>\n",
       "    <tr style=\"text-align: right;\">\n",
       "      <th></th>\n",
       "      <th>code</th>\n",
       "      <th>url</th>\n",
       "      <th>creator</th>\n",
       "      <th>created_t</th>\n",
       "      <th>created_datetime</th>\n",
       "      <th>last_modified_t</th>\n",
       "      <th>last_modified_datetime</th>\n",
       "      <th>product_name</th>\n",
       "      <th>abbreviated_product_name</th>\n",
       "      <th>generic_name</th>\n",
       "      <th>...</th>\n",
       "      <th>carbon-footprint-from-meat-or-fish_100g</th>\n",
       "      <th>nutrition-score-fr_100g</th>\n",
       "      <th>nutrition-score-uk_100g</th>\n",
       "      <th>glycemic-index_100g</th>\n",
       "      <th>water-hardness_100g</th>\n",
       "      <th>choline_100g</th>\n",
       "      <th>phylloquinone_100g</th>\n",
       "      <th>beta-glucan_100g</th>\n",
       "      <th>inositol_100g</th>\n",
       "      <th>carnitine_100g</th>\n",
       "    </tr>\n",
       "  </thead>\n",
       "  <tbody>\n",
       "    <tr>\n",
       "      <th>0</th>\n",
       "      <td>00000000000000225</td>\n",
       "      <td>http://world-en.openfoodfacts.org/product/0000...</td>\n",
       "      <td>nutrinet-sante</td>\n",
       "      <td>1623855208</td>\n",
       "      <td>2021-06-16T14:53:28Z</td>\n",
       "      <td>1623855209</td>\n",
       "      <td>2021-06-16T14:53:29Z</td>\n",
       "      <td>jeunes pousses</td>\n",
       "      <td>NaN</td>\n",
       "      <td>NaN</td>\n",
       "      <td>...</td>\n",
       "      <td>NaN</td>\n",
       "      <td>NaN</td>\n",
       "      <td>NaN</td>\n",
       "      <td>NaN</td>\n",
       "      <td>NaN</td>\n",
       "      <td>NaN</td>\n",
       "      <td>NaN</td>\n",
       "      <td>NaN</td>\n",
       "      <td>NaN</td>\n",
       "      <td>NaN</td>\n",
       "    </tr>\n",
       "    <tr>\n",
       "      <th>1</th>\n",
       "      <td>00000000000003429145</td>\n",
       "      <td>http://world-en.openfoodfacts.org/product/0000...</td>\n",
       "      <td>kiliweb</td>\n",
       "      <td>1630483911</td>\n",
       "      <td>2021-09-01T08:11:51Z</td>\n",
       "      <td>1630484064</td>\n",
       "      <td>2021-09-01T08:14:24Z</td>\n",
       "      <td>L.casei</td>\n",
       "      <td>NaN</td>\n",
       "      <td>NaN</td>\n",
       "      <td>...</td>\n",
       "      <td>NaN</td>\n",
       "      <td>NaN</td>\n",
       "      <td>NaN</td>\n",
       "      <td>NaN</td>\n",
       "      <td>NaN</td>\n",
       "      <td>NaN</td>\n",
       "      <td>NaN</td>\n",
       "      <td>NaN</td>\n",
       "      <td>NaN</td>\n",
       "      <td>NaN</td>\n",
       "    </tr>\n",
       "  </tbody>\n",
       "</table>\n",
       "<p>2 rows × 187 columns</p>\n",
       "</div>"
      ],
      "text/plain": [
       "                   code                                                url  \\\n",
       "0     00000000000000225  http://world-en.openfoodfacts.org/product/0000...   \n",
       "1  00000000000003429145  http://world-en.openfoodfacts.org/product/0000...   \n",
       "\n",
       "          creator   created_t      created_datetime  last_modified_t  \\\n",
       "0  nutrinet-sante  1623855208  2021-06-16T14:53:28Z       1623855209   \n",
       "1         kiliweb  1630483911  2021-09-01T08:11:51Z       1630484064   \n",
       "\n",
       "  last_modified_datetime    product_name abbreviated_product_name  \\\n",
       "0   2021-06-16T14:53:29Z  jeunes pousses                      NaN   \n",
       "1   2021-09-01T08:14:24Z         L.casei                      NaN   \n",
       "\n",
       "  generic_name  ... carbon-footprint-from-meat-or-fish_100g  \\\n",
       "0          NaN  ...                                     NaN   \n",
       "1          NaN  ...                                     NaN   \n",
       "\n",
       "  nutrition-score-fr_100g nutrition-score-uk_100g glycemic-index_100g  \\\n",
       "0                     NaN                     NaN                 NaN   \n",
       "1                     NaN                     NaN                 NaN   \n",
       "\n",
       "  water-hardness_100g choline_100g phylloquinone_100g beta-glucan_100g  \\\n",
       "0                 NaN          NaN                NaN              NaN   \n",
       "1                 NaN          NaN                NaN              NaN   \n",
       "\n",
       "  inositol_100g carnitine_100g  \n",
       "0           NaN            NaN  \n",
       "1           NaN            NaN  \n",
       "\n",
       "[2 rows x 187 columns]"
      ]
     },
     "execution_count": 154,
     "metadata": {},
     "output_type": "execute_result"
    }
   ],
   "source": [
    "openFood.head(2)"
   ]
  },
  {
   "cell_type": "markdown",
   "id": "2ad59c7d",
   "metadata": {},
   "source": [
    "### Selection de variable pour notre application"
   ]
  },
  {
   "cell_type": "code",
   "execution_count": 155,
   "id": "20f6901e",
   "metadata": {},
   "outputs": [],
   "source": [
    "listColumns = ['product_name','additives_n', 'origins','trans-fat_100g', 'sugars_100g', 'ingredients_from_palm_oil_n', 'salt_100g','nutriscore_grade','nutrition-score-fr_100g']"
   ]
  },
  {
   "cell_type": "markdown",
   "id": "5db4116a",
   "metadata": {},
   "source": [
    "Filtre sur une liste de colonne"
   ]
  },
  {
   "cell_type": "code",
   "execution_count": 156,
   "id": "320c24c1",
   "metadata": {},
   "outputs": [],
   "source": [
    "openFood_filtred = openFood[listColumns]"
   ]
  },
  {
   "cell_type": "code",
   "execution_count": 157,
   "id": "1a09059b",
   "metadata": {},
   "outputs": [
    {
     "data": {
      "text/html": [
       "<div>\n",
       "<style scoped>\n",
       "    .dataframe tbody tr th:only-of-type {\n",
       "        vertical-align: middle;\n",
       "    }\n",
       "\n",
       "    .dataframe tbody tr th {\n",
       "        vertical-align: top;\n",
       "    }\n",
       "\n",
       "    .dataframe thead th {\n",
       "        text-align: right;\n",
       "    }\n",
       "</style>\n",
       "<table border=\"1\" class=\"dataframe\">\n",
       "  <thead>\n",
       "    <tr style=\"text-align: right;\">\n",
       "      <th></th>\n",
       "      <th>additives_n</th>\n",
       "      <th>trans-fat_100g</th>\n",
       "      <th>sugars_100g</th>\n",
       "      <th>ingredients_from_palm_oil_n</th>\n",
       "      <th>salt_100g</th>\n",
       "      <th>nutrition-score-fr_100g</th>\n",
       "    </tr>\n",
       "  </thead>\n",
       "  <tbody>\n",
       "    <tr>\n",
       "      <th>count</th>\n",
       "      <td>728347.000000</td>\n",
       "      <td>265010.000000</td>\n",
       "      <td>1.584398e+06</td>\n",
       "      <td>728347.000000</td>\n",
       "      <td>1.510889e+06</td>\n",
       "      <td>726017.000000</td>\n",
       "    </tr>\n",
       "    <tr>\n",
       "      <th>mean</th>\n",
       "      <td>2.025644</td>\n",
       "      <td>0.145396</td>\n",
       "      <td>6.311547e+07</td>\n",
       "      <td>0.020223</td>\n",
       "      <td>2.231864e+00</td>\n",
       "      <td>9.110962</td>\n",
       "    </tr>\n",
       "    <tr>\n",
       "      <th>std</th>\n",
       "      <td>2.895511</td>\n",
       "      <td>29.484580</td>\n",
       "      <td>7.944524e+10</td>\n",
       "      <td>0.142679</td>\n",
       "      <td>1.204497e+02</td>\n",
       "      <td>8.847891</td>\n",
       "    </tr>\n",
       "    <tr>\n",
       "      <th>min</th>\n",
       "      <td>0.000000</td>\n",
       "      <td>0.000000</td>\n",
       "      <td>-1.000000e+00</td>\n",
       "      <td>0.000000</td>\n",
       "      <td>0.000000e+00</td>\n",
       "      <td>-15.000000</td>\n",
       "    </tr>\n",
       "    <tr>\n",
       "      <th>25%</th>\n",
       "      <td>0.000000</td>\n",
       "      <td>0.000000</td>\n",
       "      <td>6.000000e-01</td>\n",
       "      <td>0.000000</td>\n",
       "      <td>8.000000e-02</td>\n",
       "      <td>1.000000</td>\n",
       "    </tr>\n",
       "    <tr>\n",
       "      <th>50%</th>\n",
       "      <td>1.000000</td>\n",
       "      <td>0.000000</td>\n",
       "      <td>3.570000e+00</td>\n",
       "      <td>0.000000</td>\n",
       "      <td>5.750000e-01</td>\n",
       "      <td>10.000000</td>\n",
       "    </tr>\n",
       "    <tr>\n",
       "      <th>75%</th>\n",
       "      <td>3.000000</td>\n",
       "      <td>0.000000</td>\n",
       "      <td>1.750000e+01</td>\n",
       "      <td>0.000000</td>\n",
       "      <td>1.400000e+00</td>\n",
       "      <td>16.000000</td>\n",
       "    </tr>\n",
       "    <tr>\n",
       "      <th>max</th>\n",
       "      <td>49.000000</td>\n",
       "      <td>14800.000000</td>\n",
       "      <td>1.000000e+14</td>\n",
       "      <td>3.000000</td>\n",
       "      <td>7.500000e+04</td>\n",
       "      <td>40.000000</td>\n",
       "    </tr>\n",
       "  </tbody>\n",
       "</table>\n",
       "</div>"
      ],
      "text/plain": [
       "         additives_n  trans-fat_100g   sugars_100g  \\\n",
       "count  728347.000000   265010.000000  1.584398e+06   \n",
       "mean        2.025644        0.145396  6.311547e+07   \n",
       "std         2.895511       29.484580  7.944524e+10   \n",
       "min         0.000000        0.000000 -1.000000e+00   \n",
       "25%         0.000000        0.000000  6.000000e-01   \n",
       "50%         1.000000        0.000000  3.570000e+00   \n",
       "75%         3.000000        0.000000  1.750000e+01   \n",
       "max        49.000000    14800.000000  1.000000e+14   \n",
       "\n",
       "       ingredients_from_palm_oil_n     salt_100g  nutrition-score-fr_100g  \n",
       "count                728347.000000  1.510889e+06            726017.000000  \n",
       "mean                      0.020223  2.231864e+00                 9.110962  \n",
       "std                       0.142679  1.204497e+02                 8.847891  \n",
       "min                       0.000000  0.000000e+00               -15.000000  \n",
       "25%                       0.000000  8.000000e-02                 1.000000  \n",
       "50%                       0.000000  5.750000e-01                10.000000  \n",
       "75%                       0.000000  1.400000e+00                16.000000  \n",
       "max                       3.000000  7.500000e+04                40.000000  "
      ]
     },
     "execution_count": 157,
     "metadata": {},
     "output_type": "execute_result"
    }
   ],
   "source": [
    "openFood_filtred.describe()"
   ]
  },
  {
   "cell_type": "markdown",
   "id": "999feed8",
   "metadata": {},
   "source": [
    "## Moyenne des valeurs non renseignées par colonne"
   ]
  },
  {
   "cell_type": "code",
   "execution_count": 158,
   "id": "7d616fe4",
   "metadata": {},
   "outputs": [],
   "source": [
    "meanNAbycolumn = openFood_filtred.isna().mean().to_frame()"
   ]
  },
  {
   "cell_type": "code",
   "execution_count": 159,
   "id": "e02675ad",
   "metadata": {},
   "outputs": [
    {
     "data": {
      "text/html": [
       "<div>\n",
       "<style scoped>\n",
       "    .dataframe tbody tr th:only-of-type {\n",
       "        vertical-align: middle;\n",
       "    }\n",
       "\n",
       "    .dataframe tbody tr th {\n",
       "        vertical-align: top;\n",
       "    }\n",
       "\n",
       "    .dataframe thead th {\n",
       "        text-align: right;\n",
       "    }\n",
       "</style>\n",
       "<table border=\"1\" class=\"dataframe\">\n",
       "  <thead>\n",
       "    <tr style=\"text-align: right;\">\n",
       "      <th></th>\n",
       "      <th>0</th>\n",
       "    </tr>\n",
       "  </thead>\n",
       "  <tbody>\n",
       "    <tr>\n",
       "      <th>product_name</th>\n",
       "      <td>0.040749</td>\n",
       "    </tr>\n",
       "    <tr>\n",
       "      <th>additives_n</th>\n",
       "      <td>0.641846</td>\n",
       "    </tr>\n",
       "    <tr>\n",
       "      <th>origins</th>\n",
       "      <td>0.957387</td>\n",
       "    </tr>\n",
       "    <tr>\n",
       "      <th>trans-fat_100g</th>\n",
       "      <td>0.869685</td>\n",
       "    </tr>\n",
       "    <tr>\n",
       "      <th>sugars_100g</th>\n",
       "      <td>0.220895</td>\n",
       "    </tr>\n",
       "    <tr>\n",
       "      <th>ingredients_from_palm_oil_n</th>\n",
       "      <td>0.641846</td>\n",
       "    </tr>\n",
       "    <tr>\n",
       "      <th>salt_100g</th>\n",
       "      <td>0.257042</td>\n",
       "    </tr>\n",
       "    <tr>\n",
       "      <th>nutriscore_grade</th>\n",
       "      <td>0.642994</td>\n",
       "    </tr>\n",
       "    <tr>\n",
       "      <th>nutrition-score-fr_100g</th>\n",
       "      <td>0.642992</td>\n",
       "    </tr>\n",
       "  </tbody>\n",
       "</table>\n",
       "</div>"
      ],
      "text/plain": [
       "                                    0\n",
       "product_name                 0.040749\n",
       "additives_n                  0.641846\n",
       "origins                      0.957387\n",
       "trans-fat_100g               0.869685\n",
       "sugars_100g                  0.220895\n",
       "ingredients_from_palm_oil_n  0.641846\n",
       "salt_100g                    0.257042\n",
       "nutriscore_grade             0.642994\n",
       "nutrition-score-fr_100g      0.642992"
      ]
     },
     "execution_count": 159,
     "metadata": {},
     "output_type": "execute_result"
    }
   ],
   "source": [
    "meanNAbycolumn"
   ]
  },
  {
   "cell_type": "code",
   "execution_count": 160,
   "id": "d60f267d",
   "metadata": {},
   "outputs": [
    {
     "data": {
      "text/plain": [
       "(2033614, 9)"
      ]
     },
     "execution_count": 160,
     "metadata": {},
     "output_type": "execute_result"
    }
   ],
   "source": [
    "openFood_filtred.shape"
   ]
  },
  {
   "cell_type": "markdown",
   "id": "cbd59957",
   "metadata": {},
   "source": [
    "La colonne product_name possède peu de NAN"
   ]
  },
  {
   "cell_type": "markdown",
   "id": "7169eb81",
   "metadata": {},
   "source": [
    "On filtre les données manquantes de la colonne product_name"
   ]
  },
  {
   "cell_type": "code",
   "execution_count": 161,
   "id": "a88189a9",
   "metadata": {},
   "outputs": [],
   "source": [
    "openFood_filtred = openFood_filtred[openFood_filtred['product_name'].notna()]"
   ]
  },
  {
   "cell_type": "code",
   "execution_count": 162,
   "id": "ad8c302d",
   "metadata": {},
   "outputs": [
    {
     "data": {
      "text/html": [
       "<div>\n",
       "<style scoped>\n",
       "    .dataframe tbody tr th:only-of-type {\n",
       "        vertical-align: middle;\n",
       "    }\n",
       "\n",
       "    .dataframe tbody tr th {\n",
       "        vertical-align: top;\n",
       "    }\n",
       "\n",
       "    .dataframe thead th {\n",
       "        text-align: right;\n",
       "    }\n",
       "</style>\n",
       "<table border=\"1\" class=\"dataframe\">\n",
       "  <thead>\n",
       "    <tr style=\"text-align: right;\">\n",
       "      <th></th>\n",
       "      <th>0</th>\n",
       "    </tr>\n",
       "  </thead>\n",
       "  <tbody>\n",
       "    <tr>\n",
       "      <th>product_name</th>\n",
       "      <td>0.000000</td>\n",
       "    </tr>\n",
       "    <tr>\n",
       "      <th>additives_n</th>\n",
       "      <td>0.630215</td>\n",
       "    </tr>\n",
       "    <tr>\n",
       "      <th>origins</th>\n",
       "      <td>0.956061</td>\n",
       "    </tr>\n",
       "    <tr>\n",
       "      <th>trans-fat_100g</th>\n",
       "      <td>0.864358</td>\n",
       "    </tr>\n",
       "    <tr>\n",
       "      <th>sugars_100g</th>\n",
       "      <td>0.191922</td>\n",
       "    </tr>\n",
       "    <tr>\n",
       "      <th>ingredients_from_palm_oil_n</th>\n",
       "      <td>0.630215</td>\n",
       "    </tr>\n",
       "    <tr>\n",
       "      <th>salt_100g</th>\n",
       "      <td>0.228855</td>\n",
       "    </tr>\n",
       "    <tr>\n",
       "      <th>nutriscore_grade</th>\n",
       "      <td>0.629230</td>\n",
       "    </tr>\n",
       "    <tr>\n",
       "      <th>nutrition-score-fr_100g</th>\n",
       "      <td>0.629228</td>\n",
       "    </tr>\n",
       "  </tbody>\n",
       "</table>\n",
       "</div>"
      ],
      "text/plain": [
       "                                    0\n",
       "product_name                 0.000000\n",
       "additives_n                  0.630215\n",
       "origins                      0.956061\n",
       "trans-fat_100g               0.864358\n",
       "sugars_100g                  0.191922\n",
       "ingredients_from_palm_oil_n  0.630215\n",
       "salt_100g                    0.228855\n",
       "nutriscore_grade             0.629230\n",
       "nutrition-score-fr_100g      0.629228"
      ]
     },
     "execution_count": 162,
     "metadata": {},
     "output_type": "execute_result"
    }
   ],
   "source": [
    "openFood_filtred.isna().mean().to_frame()"
   ]
  },
  {
   "cell_type": "markdown",
   "id": "b7a5c737",
   "metadata": {},
   "source": [
    "### Analyse avant traitement NAN"
   ]
  },
  {
   "cell_type": "markdown",
   "id": "ab188aac",
   "metadata": {},
   "source": [
    "Les listes pour chaque type de feature"
   ]
  },
  {
   "cell_type": "code",
   "execution_count": 163,
   "id": "76681816",
   "metadata": {},
   "outputs": [],
   "source": [
    "listNumerical = openFood_filtred.select_dtypes(include=['float64','int64']).columns\n",
    "listCategorical = openFood_filtred.select_dtypes(include=['object']).columns\n",
    "listOrdinal = listCategorical[2:]\n",
    "listNominal = listCategorical[:2]\n",
    "features = listNominal.tolist() + listNumerical.tolist() + listOrdinal.tolist()"
   ]
  },
  {
   "cell_type": "markdown",
   "id": "18e3f75d",
   "metadata": {},
   "source": [
    "### Aperçu des valeurs les plus représentées"
   ]
  },
  {
   "cell_type": "code",
   "execution_count": 164,
   "id": "4dcfd50f",
   "metadata": {},
   "outputs": [
    {
     "data": {
      "text/plain": [
       "Miel                                   1356\n",
       "Aceite de oliva virgen extra           1354\n",
       "Filet de poulet                        1094\n",
       "Comté                                   964\n",
       "Ice cream                               762\n",
       "                                       ... \n",
       "Blendes scotch whisky                     1\n",
       "William Peel Scotch Whisky                1\n",
       "William Peel Magnum 175CL 40°             1\n",
       "William Peel Double Maturation 70CL       1\n",
       "Signal Toothpaste                         1\n",
       "Name: product_name, Length: 1265059, dtype: int64"
      ]
     },
     "execution_count": 164,
     "metadata": {},
     "output_type": "execute_result"
    }
   ],
   "source": [
    "openFood_filtred[listNominal[0]].value_counts()"
   ]
  },
  {
   "cell_type": "code",
   "execution_count": 165,
   "id": "84ab4abc",
   "metadata": {},
   "outputs": [
    {
     "data": {
      "text/plain": [
       "France                                                        22019\n",
       "México                                                         1909\n",
       "España                                                         1596\n",
       "Union Européenne                                               1547\n",
       "Deutschland                                                    1404\n",
       "                                                              ...  \n",
       "Argetine,Chili,Pérou,Vietnam,Îles Feroé                           1\n",
       "Pérou,Argentine,Vietnam                                           1\n",
       "viande issues d'animaux d'origine france                          1\n",
       "Unicognac S. A.                                                   1\n",
       "Vegetable Glycerin, Propylene Glycol, Flavouring, Nicotine        1\n",
       "Name: origins, Length: 13662, dtype: int64"
      ]
     },
     "execution_count": 165,
     "metadata": {},
     "output_type": "execute_result"
    }
   ],
   "source": [
    "openFood_filtred[listNominal[1]].value_counts()"
   ]
  },
  {
   "cell_type": "code",
   "execution_count": 166,
   "id": "acc0e7ed",
   "metadata": {},
   "outputs": [
    {
     "data": {
      "text/plain": [
       "nutriscore_grade\n",
       "d                   224722\n",
       "c                   155653\n",
       "e                   133198\n",
       "a                   115547\n",
       "b                    94159\n",
       "dtype: int64"
      ]
     },
     "execution_count": 166,
     "metadata": {},
     "output_type": "execute_result"
    }
   ],
   "source": [
    "openFood_filtred[listOrdinal].value_counts()"
   ]
  },
  {
   "cell_type": "code",
   "execution_count": 167,
   "id": "dd35f6d7",
   "metadata": {},
   "outputs": [
    {
     "data": {
      "text/plain": [
       "2026319    1.000000e+14\n",
       "1955239    1.000000e+06\n",
       "1299376    5.670000e+04\n",
       "799914     2.700000e+04\n",
       "1993487    4.466667e+03\n",
       "               ...     \n",
       "2033604             NaN\n",
       "2033607             NaN\n",
       "2033609             NaN\n",
       "2033610             NaN\n",
       "2033613             NaN\n",
       "Name: sugars_100g, Length: 1950747, dtype: float64"
      ]
     },
     "execution_count": 167,
     "metadata": {},
     "output_type": "execute_result"
    }
   ],
   "source": [
    "openFood_filtred['sugars_100g'].sort_values(ascending = False)"
   ]
  },
  {
   "cell_type": "code",
   "execution_count": 168,
   "id": "9d40d1f9",
   "metadata": {},
   "outputs": [
    {
     "data": {
      "text/html": [
       "<div>\n",
       "<style scoped>\n",
       "    .dataframe tbody tr th:only-of-type {\n",
       "        vertical-align: middle;\n",
       "    }\n",
       "\n",
       "    .dataframe tbody tr th {\n",
       "        vertical-align: top;\n",
       "    }\n",
       "\n",
       "    .dataframe thead th {\n",
       "        text-align: right;\n",
       "    }\n",
       "</style>\n",
       "<table border=\"1\" class=\"dataframe\">\n",
       "  <thead>\n",
       "    <tr style=\"text-align: right;\">\n",
       "      <th></th>\n",
       "      <th>product_name</th>\n",
       "      <th>additives_n</th>\n",
       "      <th>origins</th>\n",
       "      <th>trans-fat_100g</th>\n",
       "      <th>sugars_100g</th>\n",
       "      <th>ingredients_from_palm_oil_n</th>\n",
       "      <th>salt_100g</th>\n",
       "      <th>nutriscore_grade</th>\n",
       "      <th>nutrition-score-fr_100g</th>\n",
       "    </tr>\n",
       "  </thead>\n",
       "  <tbody>\n",
       "    <tr>\n",
       "      <th>799914</th>\n",
       "      <td>Nems crevette cabillaud et sauce nuoc mam</td>\n",
       "      <td>1.0</td>\n",
       "      <td>NaN</td>\n",
       "      <td>NaN</td>\n",
       "      <td>2.700000e+04</td>\n",
       "      <td>0.0</td>\n",
       "      <td>14000.0</td>\n",
       "      <td>e</td>\n",
       "      <td>40.0</td>\n",
       "    </tr>\n",
       "    <tr>\n",
       "      <th>1299376</th>\n",
       "      <td>Great Taste White</td>\n",
       "      <td>6.0</td>\n",
       "      <td>NaN</td>\n",
       "      <td>NaN</td>\n",
       "      <td>5.670000e+04</td>\n",
       "      <td>0.0</td>\n",
       "      <td>125.0</td>\n",
       "      <td>NaN</td>\n",
       "      <td>NaN</td>\n",
       "    </tr>\n",
       "    <tr>\n",
       "      <th>1955239</th>\n",
       "      <td>Chocokoek</td>\n",
       "      <td>NaN</td>\n",
       "      <td>NaN</td>\n",
       "      <td>NaN</td>\n",
       "      <td>1.000000e+06</td>\n",
       "      <td>NaN</td>\n",
       "      <td>NaN</td>\n",
       "      <td>NaN</td>\n",
       "      <td>NaN</td>\n",
       "    </tr>\n",
       "    <tr>\n",
       "      <th>2026319</th>\n",
       "      <td>Vanille biscuits</td>\n",
       "      <td>NaN</td>\n",
       "      <td>NaN</td>\n",
       "      <td>NaN</td>\n",
       "      <td>1.000000e+14</td>\n",
       "      <td>NaN</td>\n",
       "      <td>NaN</td>\n",
       "      <td>NaN</td>\n",
       "      <td>NaN</td>\n",
       "    </tr>\n",
       "  </tbody>\n",
       "</table>\n",
       "</div>"
      ],
      "text/plain": [
       "                                      product_name  additives_n origins  \\\n",
       "799914   Nems crevette cabillaud et sauce nuoc mam          1.0     NaN   \n",
       "1299376                          Great Taste White          6.0     NaN   \n",
       "1955239                                  Chocokoek          NaN     NaN   \n",
       "2026319                           Vanille biscuits          NaN     NaN   \n",
       "\n",
       "         trans-fat_100g   sugars_100g  ingredients_from_palm_oil_n  salt_100g  \\\n",
       "799914              NaN  2.700000e+04                          0.0    14000.0   \n",
       "1299376             NaN  5.670000e+04                          0.0      125.0   \n",
       "1955239             NaN  1.000000e+06                          NaN        NaN   \n",
       "2026319             NaN  1.000000e+14                          NaN        NaN   \n",
       "\n",
       "        nutriscore_grade  nutrition-score-fr_100g  \n",
       "799914                 e                     40.0  \n",
       "1299376              NaN                      NaN  \n",
       "1955239              NaN                      NaN  \n",
       "2026319              NaN                      NaN  "
      ]
     },
     "execution_count": 168,
     "metadata": {},
     "output_type": "execute_result"
    }
   ],
   "source": [
    "openFood_filtred[openFood_filtred['sugars_100g'] > 4.466667e+03]"
   ]
  },
  {
   "cell_type": "markdown",
   "id": "a80fe019",
   "metadata": {},
   "source": [
    "## Méthode de nettoyage - valeurs manquantes"
   ]
  },
  {
   "cell_type": "markdown",
   "id": "0cdb04d6",
   "metadata": {},
   "source": [
    "## Suppréssion de doublon"
   ]
  },
  {
   "cell_type": "code",
   "execution_count": 169,
   "id": "5833b17b",
   "metadata": {},
   "outputs": [],
   "source": [
    "openFood_filtred = openFood_filtred.drop_duplicates()"
   ]
  },
  {
   "cell_type": "markdown",
   "id": "0b021446",
   "metadata": {},
   "source": [
    "## Valeurs Manquantes"
   ]
  },
  {
   "cell_type": "markdown",
   "id": "b0782147",
   "metadata": {},
   "source": [
    "### Filling NA"
   ]
  },
  {
   "cell_type": "code",
   "execution_count": 170,
   "id": "58815d21",
   "metadata": {},
   "outputs": [
    {
     "data": {
      "text/plain": [
       "France                                                        20700\n",
       "México                                                         1854\n",
       "Union Européenne                                               1529\n",
       "España                                                         1463\n",
       "Deutschland                                                    1381\n",
       "                                                              ...  \n",
       "Coteaux Nantais                                                   1\n",
       "Vercheny,Drôme,France                                             1\n",
       "Argentine,Chili,Pérou,Viêt Nam                                    1\n",
       "Argetine,Chili,Pérou,Vietnam,Îles Feroé                           1\n",
       "Vegetable Glycerin, Propylene Glycol, Flavouring, Nicotine        1\n",
       "Name: origins, Length: 13662, dtype: int64"
      ]
     },
     "execution_count": 170,
     "metadata": {},
     "output_type": "execute_result"
    }
   ],
   "source": [
    "openFood_filtred['origins'].value_counts()"
   ]
  },
  {
   "cell_type": "markdown",
   "id": "9e9e535e",
   "metadata": {},
   "source": [
    "En terme de recensement, on choisit le 2ème pays afin d'éviter d'accentuer la présence de la France"
   ]
  },
  {
   "cell_type": "code",
   "execution_count": 171,
   "id": "4c59eeba",
   "metadata": {},
   "outputs": [],
   "source": [
    "openFood_filtred['origins'].fillna(\"México\", inplace=True)"
   ]
  },
  {
   "cell_type": "code",
   "execution_count": 172,
   "id": "eb0f0ade",
   "metadata": {},
   "outputs": [
    {
     "data": {
      "text/plain": [
       "México                                                        1680278\n",
       "France                                                          20700\n",
       "Union Européenne                                                 1529\n",
       "España                                                           1463\n",
       "Deutschland                                                      1381\n",
       "                                                               ...   \n",
       "Coteaux Nantais                                                     1\n",
       "Vercheny,Drôme,France                                               1\n",
       "Argentine,Chili,Pérou,Viêt Nam                                      1\n",
       "Argetine,Chili,Pérou,Vietnam,Îles Feroé                             1\n",
       "Vegetable Glycerin, Propylene Glycol, Flavouring, Nicotine          1\n",
       "Name: origins, Length: 13662, dtype: int64"
      ]
     },
     "execution_count": 172,
     "metadata": {},
     "output_type": "execute_result"
    }
   ],
   "source": [
    "openFood_filtred['origins'].value_counts()"
   ]
  },
  {
   "cell_type": "markdown",
   "id": "b4ec4ef3",
   "metadata": {},
   "source": [
    "Récapitulatif des valeurs manquantes"
   ]
  },
  {
   "cell_type": "code",
   "execution_count": 173,
   "id": "3c9fd198",
   "metadata": {},
   "outputs": [
    {
     "data": {
      "text/html": [
       "<div>\n",
       "<style scoped>\n",
       "    .dataframe tbody tr th:only-of-type {\n",
       "        vertical-align: middle;\n",
       "    }\n",
       "\n",
       "    .dataframe tbody tr th {\n",
       "        vertical-align: top;\n",
       "    }\n",
       "\n",
       "    .dataframe thead th {\n",
       "        text-align: right;\n",
       "    }\n",
       "</style>\n",
       "<table border=\"1\" class=\"dataframe\">\n",
       "  <thead>\n",
       "    <tr style=\"text-align: right;\">\n",
       "      <th></th>\n",
       "      <th>0</th>\n",
       "    </tr>\n",
       "  </thead>\n",
       "  <tbody>\n",
       "    <tr>\n",
       "      <th>product_name</th>\n",
       "      <td>0.000000</td>\n",
       "    </tr>\n",
       "    <tr>\n",
       "      <th>additives_n</th>\n",
       "      <td>0.612214</td>\n",
       "    </tr>\n",
       "    <tr>\n",
       "      <th>origins</th>\n",
       "      <td>0.000000</td>\n",
       "    </tr>\n",
       "    <tr>\n",
       "      <th>trans-fat_100g</th>\n",
       "      <td>0.861908</td>\n",
       "    </tr>\n",
       "    <tr>\n",
       "      <th>sugars_100g</th>\n",
       "      <td>0.168090</td>\n",
       "    </tr>\n",
       "    <tr>\n",
       "      <th>ingredients_from_palm_oil_n</th>\n",
       "      <td>0.612214</td>\n",
       "    </tr>\n",
       "    <tr>\n",
       "      <th>salt_100g</th>\n",
       "      <td>0.207383</td>\n",
       "    </tr>\n",
       "    <tr>\n",
       "      <th>nutriscore_grade</th>\n",
       "      <td>0.619229</td>\n",
       "    </tr>\n",
       "    <tr>\n",
       "      <th>nutrition-score-fr_100g</th>\n",
       "      <td>0.619227</td>\n",
       "    </tr>\n",
       "  </tbody>\n",
       "</table>\n",
       "</div>"
      ],
      "text/plain": [
       "                                    0\n",
       "product_name                 0.000000\n",
       "additives_n                  0.612214\n",
       "origins                      0.000000\n",
       "trans-fat_100g               0.861908\n",
       "sugars_100g                  0.168090\n",
       "ingredients_from_palm_oil_n  0.612214\n",
       "salt_100g                    0.207383\n",
       "nutriscore_grade             0.619229\n",
       "nutrition-score-fr_100g      0.619227"
      ]
     },
     "execution_count": 173,
     "metadata": {},
     "output_type": "execute_result"
    }
   ],
   "source": [
    "openFood_filtred.isna().mean().to_frame()"
   ]
  },
  {
   "cell_type": "markdown",
   "id": "fda4d889",
   "metadata": {},
   "source": [
    "### Remplacer les NAN"
   ]
  },
  {
   "cell_type": "code",
   "execution_count": 174,
   "id": "0cda2e6b",
   "metadata": {},
   "outputs": [
    {
     "data": {
      "text/plain": [
       "d    207671\n",
       "c    143712\n",
       "e    126504\n",
       "a    104573\n",
       "b     88424\n",
       "Name: nutriscore_grade, dtype: int64"
      ]
     },
     "execution_count": 174,
     "metadata": {},
     "output_type": "execute_result"
    }
   ],
   "source": [
    "openFood_filtred['nutriscore_grade'].value_counts()"
   ]
  },
  {
   "cell_type": "code",
   "execution_count": 175,
   "id": "0ff6b746",
   "metadata": {},
   "outputs": [],
   "source": [
    "openFood_filtred['nutriscore_grade'].replace([np.nan], \"c\", inplace=True)"
   ]
  },
  {
   "cell_type": "code",
   "execution_count": 176,
   "id": "941f2656",
   "metadata": {},
   "outputs": [
    {
     "data": {
      "text/plain": [
       "c    1234738\n",
       "d     207671\n",
       "e     126504\n",
       "a     104573\n",
       "b      88424\n",
       "Name: nutriscore_grade, dtype: int64"
      ]
     },
     "execution_count": 176,
     "metadata": {},
     "output_type": "execute_result"
    }
   ],
   "source": [
    "openFood_filtred['nutriscore_grade'].value_counts()"
   ]
  },
  {
   "cell_type": "markdown",
   "id": "e497c1c6",
   "metadata": {},
   "source": [
    "Récapitulatif des valeurs manquantes"
   ]
  },
  {
   "cell_type": "code",
   "execution_count": 177,
   "id": "063dd868",
   "metadata": {},
   "outputs": [
    {
     "data": {
      "text/html": [
       "<div>\n",
       "<style scoped>\n",
       "    .dataframe tbody tr th:only-of-type {\n",
       "        vertical-align: middle;\n",
       "    }\n",
       "\n",
       "    .dataframe tbody tr th {\n",
       "        vertical-align: top;\n",
       "    }\n",
       "\n",
       "    .dataframe thead th {\n",
       "        text-align: right;\n",
       "    }\n",
       "</style>\n",
       "<table border=\"1\" class=\"dataframe\">\n",
       "  <thead>\n",
       "    <tr style=\"text-align: right;\">\n",
       "      <th></th>\n",
       "      <th>0</th>\n",
       "    </tr>\n",
       "  </thead>\n",
       "  <tbody>\n",
       "    <tr>\n",
       "      <th>product_name</th>\n",
       "      <td>0.000000</td>\n",
       "    </tr>\n",
       "    <tr>\n",
       "      <th>additives_n</th>\n",
       "      <td>0.612214</td>\n",
       "    </tr>\n",
       "    <tr>\n",
       "      <th>origins</th>\n",
       "      <td>0.000000</td>\n",
       "    </tr>\n",
       "    <tr>\n",
       "      <th>trans-fat_100g</th>\n",
       "      <td>0.861908</td>\n",
       "    </tr>\n",
       "    <tr>\n",
       "      <th>sugars_100g</th>\n",
       "      <td>0.168090</td>\n",
       "    </tr>\n",
       "    <tr>\n",
       "      <th>ingredients_from_palm_oil_n</th>\n",
       "      <td>0.612214</td>\n",
       "    </tr>\n",
       "    <tr>\n",
       "      <th>salt_100g</th>\n",
       "      <td>0.207383</td>\n",
       "    </tr>\n",
       "    <tr>\n",
       "      <th>nutriscore_grade</th>\n",
       "      <td>0.000000</td>\n",
       "    </tr>\n",
       "    <tr>\n",
       "      <th>nutrition-score-fr_100g</th>\n",
       "      <td>0.619227</td>\n",
       "    </tr>\n",
       "  </tbody>\n",
       "</table>\n",
       "</div>"
      ],
      "text/plain": [
       "                                    0\n",
       "product_name                 0.000000\n",
       "additives_n                  0.612214\n",
       "origins                      0.000000\n",
       "trans-fat_100g               0.861908\n",
       "sugars_100g                  0.168090\n",
       "ingredients_from_palm_oil_n  0.612214\n",
       "salt_100g                    0.207383\n",
       "nutriscore_grade             0.000000\n",
       "nutrition-score-fr_100g      0.619227"
      ]
     },
     "execution_count": 177,
     "metadata": {},
     "output_type": "execute_result"
    }
   ],
   "source": [
    "openFood_filtred.isna().mean().to_frame()"
   ]
  },
  {
   "cell_type": "code",
   "execution_count": 178,
   "id": "ed74ed47",
   "metadata": {},
   "outputs": [
    {
     "data": {
      "text/plain": [
       "0.0000     237422\n",
       "0.1000        363\n",
       "0.2000        300\n",
       "1.0000        130\n",
       "0.4000        121\n",
       "            ...  \n",
       "0.2610          1\n",
       "0.0833          1\n",
       "0.9930          1\n",
       "4.6500          1\n",
       "90.0000         1\n",
       "Name: trans-fat_100g, Length: 564, dtype: int64"
      ]
     },
     "execution_count": 178,
     "metadata": {},
     "output_type": "execute_result"
    }
   ],
   "source": [
    "openFood_filtred['trans-fat_100g'].value_counts()"
   ]
  },
  {
   "cell_type": "code",
   "execution_count": 179,
   "id": "82a22392",
   "metadata": {},
   "outputs": [],
   "source": [
    "#for i in listNumerical:\n",
    "#    b[i] = openFood_filtred[i].interpolate(method ='linear', limit_direction ='backward', inplace=True)"
   ]
  },
  {
   "cell_type": "markdown",
   "id": "14999bfe",
   "metadata": {},
   "source": [
    "## Simple imputer"
   ]
  },
  {
   "cell_type": "markdown",
   "id": "94755ff3",
   "metadata": {},
   "source": [
    "Notre simple imputer s'applique uniquement sur les variables quantitative, on va devoir scinder le dataframe en 2"
   ]
  },
  {
   "cell_type": "code",
   "execution_count": 180,
   "id": "3ce39e6a",
   "metadata": {},
   "outputs": [],
   "source": [
    "imp_median = SimpleImputer(missing_values=np.nan, strategy='median')\n",
    "imp_median.fit(openFood_filtred[listNumerical])\n",
    "openFood_data_array = imp_median.transform(openFood_filtred[listNumerical])"
   ]
  },
  {
   "cell_type": "code",
   "execution_count": 181,
   "id": "64f437f0",
   "metadata": {},
   "outputs": [],
   "source": [
    "openFood_data_df = pd.DataFrame(openFood_data_array, columns = listNumerical)"
   ]
  },
  {
   "cell_type": "code",
   "execution_count": 182,
   "id": "f10a3f17",
   "metadata": {},
   "outputs": [
    {
     "data": {
      "text/html": [
       "<div>\n",
       "<style scoped>\n",
       "    .dataframe tbody tr th:only-of-type {\n",
       "        vertical-align: middle;\n",
       "    }\n",
       "\n",
       "    .dataframe tbody tr th {\n",
       "        vertical-align: top;\n",
       "    }\n",
       "\n",
       "    .dataframe thead th {\n",
       "        text-align: right;\n",
       "    }\n",
       "</style>\n",
       "<table border=\"1\" class=\"dataframe\">\n",
       "  <thead>\n",
       "    <tr style=\"text-align: right;\">\n",
       "      <th></th>\n",
       "      <th>additives_n</th>\n",
       "      <th>trans-fat_100g</th>\n",
       "      <th>sugars_100g</th>\n",
       "      <th>ingredients_from_palm_oil_n</th>\n",
       "      <th>salt_100g</th>\n",
       "      <th>nutrition-score-fr_100g</th>\n",
       "    </tr>\n",
       "  </thead>\n",
       "  <tbody>\n",
       "    <tr>\n",
       "      <th>0</th>\n",
       "      <td>1.0</td>\n",
       "      <td>0.0</td>\n",
       "      <td>3.8</td>\n",
       "      <td>0.0</td>\n",
       "      <td>0.5725</td>\n",
       "      <td>10.0</td>\n",
       "    </tr>\n",
       "    <tr>\n",
       "      <th>1</th>\n",
       "      <td>0.0</td>\n",
       "      <td>0.0</td>\n",
       "      <td>9.8</td>\n",
       "      <td>0.0</td>\n",
       "      <td>0.1000</td>\n",
       "      <td>10.0</td>\n",
       "    </tr>\n",
       "    <tr>\n",
       "      <th>2</th>\n",
       "      <td>1.0</td>\n",
       "      <td>0.0</td>\n",
       "      <td>15.0</td>\n",
       "      <td>0.0</td>\n",
       "      <td>1.4000</td>\n",
       "      <td>10.0</td>\n",
       "    </tr>\n",
       "    <tr>\n",
       "      <th>3</th>\n",
       "      <td>1.0</td>\n",
       "      <td>0.0</td>\n",
       "      <td>3.8</td>\n",
       "      <td>0.0</td>\n",
       "      <td>0.5725</td>\n",
       "      <td>10.0</td>\n",
       "    </tr>\n",
       "    <tr>\n",
       "      <th>4</th>\n",
       "      <td>1.0</td>\n",
       "      <td>0.0</td>\n",
       "      <td>3.8</td>\n",
       "      <td>0.0</td>\n",
       "      <td>1.1000</td>\n",
       "      <td>10.0</td>\n",
       "    </tr>\n",
       "    <tr>\n",
       "      <th>...</th>\n",
       "      <td>...</td>\n",
       "      <td>...</td>\n",
       "      <td>...</td>\n",
       "      <td>...</td>\n",
       "      <td>...</td>\n",
       "      <td>...</td>\n",
       "    </tr>\n",
       "    <tr>\n",
       "      <th>1761905</th>\n",
       "      <td>1.0</td>\n",
       "      <td>0.0</td>\n",
       "      <td>1.0</td>\n",
       "      <td>0.0</td>\n",
       "      <td>1.0000</td>\n",
       "      <td>10.0</td>\n",
       "    </tr>\n",
       "    <tr>\n",
       "      <th>1761906</th>\n",
       "      <td>1.0</td>\n",
       "      <td>0.0</td>\n",
       "      <td>3.8</td>\n",
       "      <td>0.0</td>\n",
       "      <td>0.5725</td>\n",
       "      <td>10.0</td>\n",
       "    </tr>\n",
       "    <tr>\n",
       "      <th>1761907</th>\n",
       "      <td>1.0</td>\n",
       "      <td>0.0</td>\n",
       "      <td>0.6</td>\n",
       "      <td>0.0</td>\n",
       "      <td>0.6400</td>\n",
       "      <td>10.0</td>\n",
       "    </tr>\n",
       "    <tr>\n",
       "      <th>1761908</th>\n",
       "      <td>1.0</td>\n",
       "      <td>0.0</td>\n",
       "      <td>7.8</td>\n",
       "      <td>0.0</td>\n",
       "      <td>0.1500</td>\n",
       "      <td>10.0</td>\n",
       "    </tr>\n",
       "    <tr>\n",
       "      <th>1761909</th>\n",
       "      <td>1.0</td>\n",
       "      <td>0.0</td>\n",
       "      <td>3.8</td>\n",
       "      <td>0.0</td>\n",
       "      <td>0.5725</td>\n",
       "      <td>10.0</td>\n",
       "    </tr>\n",
       "  </tbody>\n",
       "</table>\n",
       "<p>1761910 rows × 6 columns</p>\n",
       "</div>"
      ],
      "text/plain": [
       "         additives_n  trans-fat_100g  sugars_100g  \\\n",
       "0                1.0             0.0          3.8   \n",
       "1                0.0             0.0          9.8   \n",
       "2                1.0             0.0         15.0   \n",
       "3                1.0             0.0          3.8   \n",
       "4                1.0             0.0          3.8   \n",
       "...              ...             ...          ...   \n",
       "1761905          1.0             0.0          1.0   \n",
       "1761906          1.0             0.0          3.8   \n",
       "1761907          1.0             0.0          0.6   \n",
       "1761908          1.0             0.0          7.8   \n",
       "1761909          1.0             0.0          3.8   \n",
       "\n",
       "         ingredients_from_palm_oil_n  salt_100g  nutrition-score-fr_100g  \n",
       "0                                0.0     0.5725                     10.0  \n",
       "1                                0.0     0.1000                     10.0  \n",
       "2                                0.0     1.4000                     10.0  \n",
       "3                                0.0     0.5725                     10.0  \n",
       "4                                0.0     1.1000                     10.0  \n",
       "...                              ...        ...                      ...  \n",
       "1761905                          0.0     1.0000                     10.0  \n",
       "1761906                          0.0     0.5725                     10.0  \n",
       "1761907                          0.0     0.6400                     10.0  \n",
       "1761908                          0.0     0.1500                     10.0  \n",
       "1761909                          0.0     0.5725                     10.0  \n",
       "\n",
       "[1761910 rows x 6 columns]"
      ]
     },
     "execution_count": 182,
     "metadata": {},
     "output_type": "execute_result"
    }
   ],
   "source": [
    "openFood_data_df"
   ]
  },
  {
   "cell_type": "code",
   "execution_count": 183,
   "id": "5301a827",
   "metadata": {},
   "outputs": [],
   "source": [
    "openFood_filtred_categorical_df = openFood_filtred[listCategorical]"
   ]
  },
  {
   "cell_type": "code",
   "execution_count": 184,
   "id": "8d7a8662",
   "metadata": {},
   "outputs": [],
   "source": [
    "openFood_data = pd.concat([openFood_filtred_categorical_df, openFood_data_df], axis=1, join='inner')"
   ]
  },
  {
   "cell_type": "code",
   "execution_count": 185,
   "id": "f00c96c8",
   "metadata": {},
   "outputs": [
    {
     "data": {
      "text/html": [
       "<div>\n",
       "<style scoped>\n",
       "    .dataframe tbody tr th:only-of-type {\n",
       "        vertical-align: middle;\n",
       "    }\n",
       "\n",
       "    .dataframe tbody tr th {\n",
       "        vertical-align: top;\n",
       "    }\n",
       "\n",
       "    .dataframe thead th {\n",
       "        text-align: right;\n",
       "    }\n",
       "</style>\n",
       "<table border=\"1\" class=\"dataframe\">\n",
       "  <thead>\n",
       "    <tr style=\"text-align: right;\">\n",
       "      <th></th>\n",
       "      <th>product_name</th>\n",
       "      <th>origins</th>\n",
       "      <th>nutriscore_grade</th>\n",
       "      <th>additives_n</th>\n",
       "      <th>trans-fat_100g</th>\n",
       "      <th>sugars_100g</th>\n",
       "      <th>ingredients_from_palm_oil_n</th>\n",
       "      <th>salt_100g</th>\n",
       "      <th>nutrition-score-fr_100g</th>\n",
       "    </tr>\n",
       "  </thead>\n",
       "  <tbody>\n",
       "    <tr>\n",
       "      <th>0</th>\n",
       "      <td>jeunes pousses</td>\n",
       "      <td>México</td>\n",
       "      <td>c</td>\n",
       "      <td>1.0</td>\n",
       "      <td>0.0</td>\n",
       "      <td>3.8</td>\n",
       "      <td>0.0</td>\n",
       "      <td>0.5725</td>\n",
       "      <td>10.0</td>\n",
       "    </tr>\n",
       "    <tr>\n",
       "      <th>1</th>\n",
       "      <td>L.casei</td>\n",
       "      <td>Spain</td>\n",
       "      <td>c</td>\n",
       "      <td>0.0</td>\n",
       "      <td>0.0</td>\n",
       "      <td>9.8</td>\n",
       "      <td>0.0</td>\n",
       "      <td>0.1000</td>\n",
       "      <td>10.0</td>\n",
       "    </tr>\n",
       "    <tr>\n",
       "      <th>2</th>\n",
       "      <td>Vitória crackers</td>\n",
       "      <td>México</td>\n",
       "      <td>c</td>\n",
       "      <td>1.0</td>\n",
       "      <td>0.0</td>\n",
       "      <td>15.0</td>\n",
       "      <td>0.0</td>\n",
       "      <td>1.4000</td>\n",
       "      <td>10.0</td>\n",
       "    </tr>\n",
       "    <tr>\n",
       "      <th>3</th>\n",
       "      <td>Cacao</td>\n",
       "      <td>México</td>\n",
       "      <td>c</td>\n",
       "      <td>1.0</td>\n",
       "      <td>0.0</td>\n",
       "      <td>3.8</td>\n",
       "      <td>0.0</td>\n",
       "      <td>0.5725</td>\n",
       "      <td>10.0</td>\n",
       "    </tr>\n",
       "    <tr>\n",
       "      <th>4</th>\n",
       "      <td>Filetes de pollo empanado</td>\n",
       "      <td>México</td>\n",
       "      <td>c</td>\n",
       "      <td>1.0</td>\n",
       "      <td>0.0</td>\n",
       "      <td>3.8</td>\n",
       "      <td>0.0</td>\n",
       "      <td>1.1000</td>\n",
       "      <td>10.0</td>\n",
       "    </tr>\n",
       "    <tr>\n",
       "      <th>...</th>\n",
       "      <td>...</td>\n",
       "      <td>...</td>\n",
       "      <td>...</td>\n",
       "      <td>...</td>\n",
       "      <td>...</td>\n",
       "      <td>...</td>\n",
       "      <td>...</td>\n",
       "      <td>...</td>\n",
       "      <td>...</td>\n",
       "    </tr>\n",
       "    <tr>\n",
       "      <th>1761905</th>\n",
       "      <td>Yopro banana &amp; peanut</td>\n",
       "      <td>México</td>\n",
       "      <td>c</td>\n",
       "      <td>1.0</td>\n",
       "      <td>0.0</td>\n",
       "      <td>1.0</td>\n",
       "      <td>0.0</td>\n",
       "      <td>1.0000</td>\n",
       "      <td>10.0</td>\n",
       "    </tr>\n",
       "    <tr>\n",
       "      <th>1761906</th>\n",
       "      <td>Oikos the ice cream</td>\n",
       "      <td>México</td>\n",
       "      <td>c</td>\n",
       "      <td>1.0</td>\n",
       "      <td>0.0</td>\n",
       "      <td>3.8</td>\n",
       "      <td>0.0</td>\n",
       "      <td>0.5725</td>\n",
       "      <td>10.0</td>\n",
       "    </tr>\n",
       "    <tr>\n",
       "      <th>1761907</th>\n",
       "      <td>Oikos</td>\n",
       "      <td>México</td>\n",
       "      <td>c</td>\n",
       "      <td>1.0</td>\n",
       "      <td>0.0</td>\n",
       "      <td>0.6</td>\n",
       "      <td>0.0</td>\n",
       "      <td>0.6400</td>\n",
       "      <td>10.0</td>\n",
       "    </tr>\n",
       "    <tr>\n",
       "      <th>1761908</th>\n",
       "      <td>Yorgurt</td>\n",
       "      <td>México</td>\n",
       "      <td>c</td>\n",
       "      <td>1.0</td>\n",
       "      <td>0.0</td>\n",
       "      <td>7.8</td>\n",
       "      <td>0.0</td>\n",
       "      <td>0.1500</td>\n",
       "      <td>10.0</td>\n",
       "    </tr>\n",
       "    <tr>\n",
       "      <th>1761909</th>\n",
       "      <td>Activia Melocoton Maracuya</td>\n",
       "      <td>México</td>\n",
       "      <td>c</td>\n",
       "      <td>1.0</td>\n",
       "      <td>0.0</td>\n",
       "      <td>3.8</td>\n",
       "      <td>0.0</td>\n",
       "      <td>0.5725</td>\n",
       "      <td>10.0</td>\n",
       "    </tr>\n",
       "  </tbody>\n",
       "</table>\n",
       "<p>1531985 rows × 9 columns</p>\n",
       "</div>"
      ],
      "text/plain": [
       "                       product_name origins nutriscore_grade  additives_n  \\\n",
       "0                    jeunes pousses  México                c          1.0   \n",
       "1                           L.casei   Spain                c          0.0   \n",
       "2                  Vitória crackers  México                c          1.0   \n",
       "3                             Cacao  México                c          1.0   \n",
       "4         Filetes de pollo empanado  México                c          1.0   \n",
       "...                             ...     ...              ...          ...   \n",
       "1761905       Yopro banana & peanut  México                c          1.0   \n",
       "1761906         Oikos the ice cream  México                c          1.0   \n",
       "1761907                       Oikos  México                c          1.0   \n",
       "1761908                     Yorgurt  México                c          1.0   \n",
       "1761909  Activia Melocoton Maracuya  México                c          1.0   \n",
       "\n",
       "         trans-fat_100g  sugars_100g  ingredients_from_palm_oil_n  salt_100g  \\\n",
       "0                   0.0          3.8                          0.0     0.5725   \n",
       "1                   0.0          9.8                          0.0     0.1000   \n",
       "2                   0.0         15.0                          0.0     1.4000   \n",
       "3                   0.0          3.8                          0.0     0.5725   \n",
       "4                   0.0          3.8                          0.0     1.1000   \n",
       "...                 ...          ...                          ...        ...   \n",
       "1761905             0.0          1.0                          0.0     1.0000   \n",
       "1761906             0.0          3.8                          0.0     0.5725   \n",
       "1761907             0.0          0.6                          0.0     0.6400   \n",
       "1761908             0.0          7.8                          0.0     0.1500   \n",
       "1761909             0.0          3.8                          0.0     0.5725   \n",
       "\n",
       "         nutrition-score-fr_100g  \n",
       "0                           10.0  \n",
       "1                           10.0  \n",
       "2                           10.0  \n",
       "3                           10.0  \n",
       "4                           10.0  \n",
       "...                          ...  \n",
       "1761905                     10.0  \n",
       "1761906                     10.0  \n",
       "1761907                     10.0  \n",
       "1761908                     10.0  \n",
       "1761909                     10.0  \n",
       "\n",
       "[1531985 rows x 9 columns]"
      ]
     },
     "execution_count": 185,
     "metadata": {},
     "output_type": "execute_result"
    }
   ],
   "source": [
    "openFood_data"
   ]
  },
  {
   "cell_type": "code",
   "execution_count": 186,
   "id": "ec33a861",
   "metadata": {},
   "outputs": [
    {
     "data": {
      "text/plain": [
       "product_name                   1109461\n",
       "origins                          12602\n",
       "nutriscore_grade                     5\n",
       "additives_n                         39\n",
       "trans-fat_100g                     523\n",
       "sugars_100g                      16673\n",
       "ingredients_from_palm_oil_n          4\n",
       "salt_100g                        23021\n",
       "nutrition-score-fr_100g             56\n",
       "dtype: int64"
      ]
     },
     "execution_count": 186,
     "metadata": {},
     "output_type": "execute_result"
    }
   ],
   "source": [
    "openFood_data.apply(pd.Series.nunique)"
   ]
  },
  {
   "cell_type": "code",
   "execution_count": 187,
   "id": "bdf6d73e",
   "metadata": {},
   "outputs": [
    {
     "data": {
      "text/html": [
       "<div>\n",
       "<style scoped>\n",
       "    .dataframe tbody tr th:only-of-type {\n",
       "        vertical-align: middle;\n",
       "    }\n",
       "\n",
       "    .dataframe tbody tr th {\n",
       "        vertical-align: top;\n",
       "    }\n",
       "\n",
       "    .dataframe thead th {\n",
       "        text-align: right;\n",
       "    }\n",
       "</style>\n",
       "<table border=\"1\" class=\"dataframe\">\n",
       "  <thead>\n",
       "    <tr style=\"text-align: right;\">\n",
       "      <th></th>\n",
       "      <th>0</th>\n",
       "    </tr>\n",
       "  </thead>\n",
       "  <tbody>\n",
       "    <tr>\n",
       "      <th>product_name</th>\n",
       "      <td>0.0</td>\n",
       "    </tr>\n",
       "    <tr>\n",
       "      <th>origins</th>\n",
       "      <td>0.0</td>\n",
       "    </tr>\n",
       "    <tr>\n",
       "      <th>nutriscore_grade</th>\n",
       "      <td>0.0</td>\n",
       "    </tr>\n",
       "    <tr>\n",
       "      <th>additives_n</th>\n",
       "      <td>0.0</td>\n",
       "    </tr>\n",
       "    <tr>\n",
       "      <th>trans-fat_100g</th>\n",
       "      <td>0.0</td>\n",
       "    </tr>\n",
       "    <tr>\n",
       "      <th>sugars_100g</th>\n",
       "      <td>0.0</td>\n",
       "    </tr>\n",
       "    <tr>\n",
       "      <th>ingredients_from_palm_oil_n</th>\n",
       "      <td>0.0</td>\n",
       "    </tr>\n",
       "    <tr>\n",
       "      <th>salt_100g</th>\n",
       "      <td>0.0</td>\n",
       "    </tr>\n",
       "    <tr>\n",
       "      <th>nutrition-score-fr_100g</th>\n",
       "      <td>0.0</td>\n",
       "    </tr>\n",
       "  </tbody>\n",
       "</table>\n",
       "</div>"
      ],
      "text/plain": [
       "                               0\n",
       "product_name                 0.0\n",
       "origins                      0.0\n",
       "nutriscore_grade             0.0\n",
       "additives_n                  0.0\n",
       "trans-fat_100g               0.0\n",
       "sugars_100g                  0.0\n",
       "ingredients_from_palm_oil_n  0.0\n",
       "salt_100g                    0.0\n",
       "nutrition-score-fr_100g      0.0"
      ]
     },
     "execution_count": 187,
     "metadata": {},
     "output_type": "execute_result"
    }
   ],
   "source": [
    "openFood_data.isna().mean().to_frame()"
   ]
  },
  {
   "cell_type": "markdown",
   "id": "b36c1f36",
   "metadata": {},
   "source": [
    "Nombre de ligne et de colonne"
   ]
  },
  {
   "cell_type": "code",
   "execution_count": 188,
   "id": "8b9cca9b",
   "metadata": {},
   "outputs": [
    {
     "data": {
      "text/plain": [
       "(1531985, 9)"
      ]
     },
     "execution_count": 188,
     "metadata": {},
     "output_type": "execute_result"
    }
   ],
   "source": [
    "openFood_data.shape"
   ]
  },
  {
   "cell_type": "code",
   "execution_count": 189,
   "id": "05ef24de",
   "metadata": {},
   "outputs": [
    {
     "data": {
      "text/html": [
       "<div>\n",
       "<style scoped>\n",
       "    .dataframe tbody tr th:only-of-type {\n",
       "        vertical-align: middle;\n",
       "    }\n",
       "\n",
       "    .dataframe tbody tr th {\n",
       "        vertical-align: top;\n",
       "    }\n",
       "\n",
       "    .dataframe thead th {\n",
       "        text-align: right;\n",
       "    }\n",
       "</style>\n",
       "<table border=\"1\" class=\"dataframe\">\n",
       "  <thead>\n",
       "    <tr style=\"text-align: right;\">\n",
       "      <th></th>\n",
       "      <th>product_name</th>\n",
       "      <th>origins</th>\n",
       "      <th>nutriscore_grade</th>\n",
       "      <th>additives_n</th>\n",
       "      <th>trans-fat_100g</th>\n",
       "      <th>sugars_100g</th>\n",
       "      <th>ingredients_from_palm_oil_n</th>\n",
       "      <th>salt_100g</th>\n",
       "      <th>nutrition-score-fr_100g</th>\n",
       "    </tr>\n",
       "  </thead>\n",
       "  <tbody>\n",
       "    <tr>\n",
       "      <th>0</th>\n",
       "      <td>jeunes pousses</td>\n",
       "      <td>México</td>\n",
       "      <td>c</td>\n",
       "      <td>1.0</td>\n",
       "      <td>0.0</td>\n",
       "      <td>3.8</td>\n",
       "      <td>0.0</td>\n",
       "      <td>0.5725</td>\n",
       "      <td>10.0</td>\n",
       "    </tr>\n",
       "    <tr>\n",
       "      <th>1</th>\n",
       "      <td>L.casei</td>\n",
       "      <td>Spain</td>\n",
       "      <td>c</td>\n",
       "      <td>0.0</td>\n",
       "      <td>0.0</td>\n",
       "      <td>9.8</td>\n",
       "      <td>0.0</td>\n",
       "      <td>0.1000</td>\n",
       "      <td>10.0</td>\n",
       "    </tr>\n",
       "    <tr>\n",
       "      <th>2</th>\n",
       "      <td>Vitória crackers</td>\n",
       "      <td>México</td>\n",
       "      <td>c</td>\n",
       "      <td>1.0</td>\n",
       "      <td>0.0</td>\n",
       "      <td>15.0</td>\n",
       "      <td>0.0</td>\n",
       "      <td>1.4000</td>\n",
       "      <td>10.0</td>\n",
       "    </tr>\n",
       "    <tr>\n",
       "      <th>3</th>\n",
       "      <td>Cacao</td>\n",
       "      <td>México</td>\n",
       "      <td>c</td>\n",
       "      <td>1.0</td>\n",
       "      <td>0.0</td>\n",
       "      <td>3.8</td>\n",
       "      <td>0.0</td>\n",
       "      <td>0.5725</td>\n",
       "      <td>10.0</td>\n",
       "    </tr>\n",
       "  </tbody>\n",
       "</table>\n",
       "</div>"
      ],
      "text/plain": [
       "       product_name origins nutriscore_grade  additives_n  trans-fat_100g  \\\n",
       "0    jeunes pousses  México                c          1.0             0.0   \n",
       "1           L.casei   Spain                c          0.0             0.0   \n",
       "2  Vitória crackers  México                c          1.0             0.0   \n",
       "3             Cacao  México                c          1.0             0.0   \n",
       "\n",
       "   sugars_100g  ingredients_from_palm_oil_n  salt_100g  \\\n",
       "0          3.8                          0.0     0.5725   \n",
       "1          9.8                          0.0     0.1000   \n",
       "2         15.0                          0.0     1.4000   \n",
       "3          3.8                          0.0     0.5725   \n",
       "\n",
       "   nutrition-score-fr_100g  \n",
       "0                     10.0  \n",
       "1                     10.0  \n",
       "2                     10.0  \n",
       "3                     10.0  "
      ]
     },
     "execution_count": 189,
     "metadata": {},
     "output_type": "execute_result"
    }
   ],
   "source": [
    "openFood_data.head(4)"
   ]
  },
  {
   "cell_type": "markdown",
   "id": "bc7b7a12",
   "metadata": {},
   "source": [
    "# Outliers"
   ]
  },
  {
   "cell_type": "markdown",
   "id": "9510a8ad",
   "metadata": {},
   "source": [
    "## Analyse"
   ]
  },
  {
   "cell_type": "code",
   "execution_count": 190,
   "id": "cb73f3eb",
   "metadata": {},
   "outputs": [],
   "source": [
    "openFood_data_numerical = openFood_data[listNumerical]"
   ]
  },
  {
   "cell_type": "code",
   "execution_count": 191,
   "id": "f3b38117",
   "metadata": {},
   "outputs": [],
   "source": [
    "openFood_data_categorical = openFood_data[listCategorical]"
   ]
  },
  {
   "cell_type": "markdown",
   "id": "1717a5ae",
   "metadata": {},
   "source": [
    "Calcul du percentile par rapport aux valeurs des variables numériques"
   ]
  },
  {
   "cell_type": "markdown",
   "id": "e296b81c",
   "metadata": {},
   "source": [
    "On calcule le percentile de chaque feature entre 5 et 101"
   ]
  },
  {
   "cell_type": "code",
   "execution_count": 192,
   "id": "b12343f4",
   "metadata": {},
   "outputs": [],
   "source": [
    "df_outlier_numerical = pd.DataFrame()\n",
    "for j in openFood_data_numerical.columns:\n",
    "    for k in np.arange(5, 101, 5):\n",
    "        df_outlier_numerical.at[k, j] = np.percentile(openFood_data_numerical[j],k)"
   ]
  },
  {
   "cell_type": "markdown",
   "id": "bc8316ad",
   "metadata": {},
   "source": [
    "#### Visualisation des percentiles pour les variables numériques"
   ]
  },
  {
   "cell_type": "code",
   "execution_count": 193,
   "id": "2f90d036",
   "metadata": {},
   "outputs": [
    {
     "data": {
      "image/png": "[encoded data removed]",
      "text/plain": [
       "<Figure size 432x288 with 1 Axes>"
      ]
     },
     "metadata": {
      "needs_background": "light"
     },
     "output_type": "display_data"
    }
   ],
   "source": [
    "for i in df_outlier_numerical.columns:\n",
    "    plt.scatter(df_outlier_numerical.index,df_outlier_numerical[i])\n",
    "    plt.title('Nuage de point percentile des variables numériques')\n",
    "#plt.savefig('Nuage_percentile.png')"
   ]
  },
  {
   "cell_type": "markdown",
   "id": "5ae385ee",
   "metadata": {},
   "source": [
    "Nuage de point percentile sel"
   ]
  },
  {
   "cell_type": "code",
   "execution_count": 194,
   "id": "ca7eba66",
   "metadata": {},
   "outputs": [
    {
     "data": {
      "text/plain": [
       "<matplotlib.collections.PathCollection at 0x7f82dc0bd9d0>"
      ]
     },
     "execution_count": 194,
     "metadata": {},
     "output_type": "execute_result"
    },
    {
     "data": {
      "image/png": "[encoded data removed]",
      "text/plain": [
       "<Figure size 432x288 with 1 Axes>"
      ]
     },
     "metadata": {
      "needs_background": "light"
     },
     "output_type": "display_data"
    }
   ],
   "source": [
    "plt.title('Nuage de point percentile sel')\n",
    "plt.scatter(df_outlier_numerical.index,df_outlier_numerical['salt_100g'])"
   ]
  },
  {
   "cell_type": "markdown",
   "id": "251f5030",
   "metadata": {},
   "source": [
    "Nuage de point percentile sucre"
   ]
  },
  {
   "cell_type": "code",
   "execution_count": 195,
   "id": "68c28df9",
   "metadata": {},
   "outputs": [
    {
     "data": {
      "text/plain": [
       "<matplotlib.collections.PathCollection at 0x7f81d764bc10>"
      ]
     },
     "execution_count": 195,
     "metadata": {},
     "output_type": "execute_result"
    },
    {
     "data": {
      "image/png": "[encoded data removed]",
      "text/plain": [
       "<Figure size 432x288 with 1 Axes>"
      ]
     },
     "metadata": {
      "needs_background": "light"
     },
     "output_type": "display_data"
    }
   ],
   "source": [
    "plt.title('Nuage de point percentile sucre')\n",
    "plt.scatter(df_outlier_numerical.index,df_outlier_numerical['sugars_100g'])"
   ]
  },
  {
   "cell_type": "markdown",
   "id": "7a207c0a",
   "metadata": {},
   "source": [
    "Nuage de point percentile trans-fat_100g"
   ]
  },
  {
   "cell_type": "code",
   "execution_count": 196,
   "id": "3187e27b",
   "metadata": {},
   "outputs": [
    {
     "data": {
      "text/plain": [
       "<matplotlib.collections.PathCollection at 0x7f81cecaca60>"
      ]
     },
     "execution_count": 196,
     "metadata": {},
     "output_type": "execute_result"
    },
    {
     "data": {
      "image/png": "[encoded data removed]",
      "text/plain": [
       "<Figure size 432x288 with 1 Axes>"
      ]
     },
     "metadata": {
      "needs_background": "light"
     },
     "output_type": "display_data"
    }
   ],
   "source": [
    "plt.title('Nuage de point percentile trans-fat_100g')\n",
    "plt.scatter(df_outlier_numerical.index,df_outlier_numerical['trans-fat_100g'])"
   ]
  },
  {
   "cell_type": "markdown",
   "id": "49bfcade",
   "metadata": {},
   "source": [
    "## Supprimer les outliers"
   ]
  },
  {
   "cell_type": "markdown",
   "id": "6585f790",
   "metadata": {},
   "source": [
    "#### Filtre les données avec le percentile"
   ]
  },
  {
   "cell_type": "markdown",
   "id": "ca37d659",
   "metadata": {},
   "source": [
    "Pour chaque featureLe 70e centile devient la valeur maximale "
   ]
  },
  {
   "cell_type": "code",
   "execution_count": 197,
   "id": "0b4e887c",
   "metadata": {},
   "outputs": [
    {
     "name": "stdout",
     "output_type": "stream",
     "text": [
      "(244582, 6)\n",
      "(5195, 6)\n",
      "(459186, 6)\n",
      "(12278, 6)\n",
      "(458159, 6)\n",
      "(282858, 6)\n"
     ]
    }
   ],
   "source": [
    "#Dénombrement des outliers, observation des percentiles superieur au 70e centile sur chaque colonne \n",
    "for i in openFood_data_numerical.columns:\n",
    "    print(openFood_data_numerical[openFood_data_numerical[i] > np.percentile(openFood_data_numerical[i],70)].shape)"
   ]
  },
  {
   "cell_type": "markdown",
   "id": "e8cae303",
   "metadata": {},
   "source": [
    "La valeur 70 a été choisie pour faciliter l'analyse (capacité de calcul)"
   ]
  },
  {
   "cell_type": "markdown",
   "id": "fe3d70ee",
   "metadata": {},
   "source": [
    "On determine les index des outliers"
   ]
  },
  {
   "cell_type": "code",
   "execution_count": 198,
   "id": "3c56cebc",
   "metadata": {},
   "outputs": [],
   "source": [
    "totalOutlier = []\n",
    "for i in openFood_data_numerical.columns:\n",
    "    totalOutlier += openFood_data_numerical[openFood_data_numerical[i] > np.percentile(openFood_data_numerical[i],70)].index.tolist()"
   ]
  },
  {
   "cell_type": "code",
   "execution_count": 199,
   "id": "4d8da4f1",
   "metadata": {},
   "outputs": [
    {
     "data": {
      "text/plain": [
       "1462258"
      ]
     },
     "execution_count": 199,
     "metadata": {},
     "output_type": "execute_result"
    }
   ],
   "source": [
    "len(totalOutlier)"
   ]
  },
  {
   "cell_type": "code",
   "execution_count": 200,
   "id": "1184467a",
   "metadata": {},
   "outputs": [],
   "source": [
    "tOtalDrop = np.unique(totalOutlier).tolist()"
   ]
  },
  {
   "cell_type": "code",
   "execution_count": 201,
   "id": "79bea976",
   "metadata": {},
   "outputs": [
    {
     "data": {
      "text/plain": [
       "928142"
      ]
     },
     "execution_count": 201,
     "metadata": {},
     "output_type": "execute_result"
    }
   ],
   "source": [
    "len(tOtalDrop)"
   ]
  },
  {
   "cell_type": "code",
   "execution_count": 202,
   "id": "2cb1db46",
   "metadata": {},
   "outputs": [
    {
     "data": {
      "text/plain": [
       "(1531985, 9)"
      ]
     },
     "execution_count": 202,
     "metadata": {},
     "output_type": "execute_result"
    }
   ],
   "source": [
    "openFood_data.shape"
   ]
  },
  {
   "cell_type": "markdown",
   "id": "855bb0ca",
   "metadata": {},
   "source": [
    "suppréssion des index des outliers"
   ]
  },
  {
   "cell_type": "code",
   "execution_count": 203,
   "id": "e51458dc",
   "metadata": {},
   "outputs": [],
   "source": [
    "df_openFood_data = openFood_data.drop(tOtalDrop)"
   ]
  },
  {
   "cell_type": "code",
   "execution_count": 204,
   "id": "45eb7b8f",
   "metadata": {},
   "outputs": [
    {
     "data": {
      "text/plain": [
       "(603843, 9)"
      ]
     },
     "execution_count": 204,
     "metadata": {},
     "output_type": "execute_result"
    }
   ],
   "source": [
    "df_openFood_data.shape"
   ]
  },
  {
   "cell_type": "markdown",
   "id": "7ab51966",
   "metadata": {},
   "source": [
    "# Verification suppréssion des outliers des variables numériques"
   ]
  },
  {
   "cell_type": "code",
   "execution_count": 205,
   "id": "1007e11a",
   "metadata": {},
   "outputs": [],
   "source": [
    "df_outlier_numerica = pd.DataFrame()\n",
    "for j in listNumerical:\n",
    "    for k in np.arange(99.01, 100, 0.001):\n",
    "        df_outlier_numerica.at[k, j] = np.percentile(df_openFood_data[j],k)"
   ]
  },
  {
   "cell_type": "code",
   "execution_count": 206,
   "id": "c421f1dd",
   "metadata": {},
   "outputs": [
    {
     "data": {
      "image/png": "[encoded data removed]",
      "text/plain": [
       "<Figure size 432x288 with 1 Axes>"
      ]
     },
     "metadata": {
      "needs_background": "light"
     },
     "output_type": "display_data"
    }
   ],
   "source": [
    "for i in df_outlier_numerical.columns:\n",
    "    plt.scatter(df_outlier_numerica.index,df_outlier_numerica[i])\n",
    "    plt.title('Supprésion Outliers - Nuage de point percentile des variables numériques')\n",
    "#plt.savefig('Apres_Nuage_percentile.png')"
   ]
  },
  {
   "cell_type": "code",
   "execution_count": 207,
   "id": "3fb023e1",
   "metadata": {},
   "outputs": [
    {
     "data": {
      "text/plain": [
       "<matplotlib.collections.PathCollection at 0x7f84ab911f70>"
      ]
     },
     "execution_count": 207,
     "metadata": {},
     "output_type": "execute_result"
    },
    {
     "data": {
      "image/png": "[encoded data removed]",
      "text/plain": [
       "<Figure size 432x288 with 1 Axes>"
      ]
     },
     "metadata": {
      "needs_background": "light"
     },
     "output_type": "display_data"
    }
   ],
   "source": [
    "#plt.title('Nuage de point percentile sel')\n",
    "plt.scatter(df_outlier_numerica.index,df_outlier_numerica['sugars_100g'])"
   ]
  },
  {
   "cell_type": "code",
   "execution_count": 208,
   "id": "74c27af1",
   "metadata": {},
   "outputs": [
    {
     "data": {
      "text/plain": [
       "<matplotlib.collections.PathCollection at 0x7f8495232d00>"
      ]
     },
     "execution_count": 208,
     "metadata": {},
     "output_type": "execute_result"
    },
    {
     "data": {
      "image/png": "[encoded data removed]",
      "text/plain": [
       "<Figure size 432x288 with 1 Axes>"
      ]
     },
     "metadata": {
      "needs_background": "light"
     },
     "output_type": "display_data"
    }
   ],
   "source": [
    "#plt.title('Nuage de point percentile sel')\n",
    "plt.scatter(df_outlier_numerica.index,df_outlier_numerica['salt_100g'])"
   ]
  },
  {
   "cell_type": "markdown",
   "id": "12776890",
   "metadata": {},
   "source": [
    "Verification des valeurs extrèmes par feature"
   ]
  },
  {
   "cell_type": "markdown",
   "id": "a99131f2",
   "metadata": {},
   "source": [
    "Avant"
   ]
  },
  {
   "cell_type": "code",
   "execution_count": 209,
   "id": "adedb667",
   "metadata": {},
   "outputs": [
    {
     "data": {
      "text/plain": [
       "67708      75000.0\n",
       "67709      69400.0\n",
       "37164      62500.0\n",
       "321397     39390.0\n",
       "1160607    38000.0\n",
       "            ...   \n",
       "1593186        0.0\n",
       "1593187        0.0\n",
       "199486         0.0\n",
       "943857         0.0\n",
       "393119         0.0\n",
       "Name: salt_100g, Length: 1531985, dtype: float64"
      ]
     },
     "execution_count": 209,
     "metadata": {},
     "output_type": "execute_result"
    }
   ],
   "source": [
    "openFood_data['salt_100g'].sort_values(ascending = False)"
   ]
  },
  {
   "cell_type": "markdown",
   "id": "c2492397",
   "metadata": {},
   "source": [
    "Après"
   ]
  },
  {
   "cell_type": "code",
   "execution_count": 210,
   "id": "7103a94a",
   "metadata": {},
   "outputs": [
    {
     "data": {
      "text/plain": [
       "0          0.0\n",
       "1239175    0.0\n",
       "1239156    0.0\n",
       "1239157    0.0\n",
       "1239159    0.0\n",
       "          ... \n",
       "704474     0.0\n",
       "704475     0.0\n",
       "704483     0.0\n",
       "704486     0.0\n",
       "1761909    0.0\n",
       "Name: trans-fat_100g, Length: 603843, dtype: float64"
      ]
     },
     "execution_count": 210,
     "metadata": {},
     "output_type": "execute_result"
    }
   ],
   "source": [
    "df_openFood_data['trans-fat_100g'].sort_values(ascending = False)"
   ]
  },
  {
   "cell_type": "markdown",
   "id": "73defa54",
   "metadata": {},
   "source": [
    "Avant"
   ]
  },
  {
   "cell_type": "code",
   "execution_count": 211,
   "id": "10854799",
   "metadata": {},
   "outputs": [
    {
     "data": {
      "text/plain": [
       "121427     40.0\n",
       "593894     40.0\n",
       "1087304    40.0\n",
       "1741384    40.0\n",
       "1720965    40.0\n",
       "           ... \n",
       "723358    -14.0\n",
       "246290    -14.0\n",
       "313208    -15.0\n",
       "1323805   -15.0\n",
       "714136    -15.0\n",
       "Name: nutrition-score-fr_100g, Length: 1531985, dtype: float64"
      ]
     },
     "execution_count": 211,
     "metadata": {},
     "output_type": "execute_result"
    }
   ],
   "source": [
    "openFood_data['nutrition-score-fr_100g'].sort_values(ascending = False)"
   ]
  },
  {
   "cell_type": "markdown",
   "id": "77725c2c",
   "metadata": {},
   "source": [
    "Après"
   ]
  },
  {
   "cell_type": "code",
   "execution_count": 212,
   "id": "1ceec899",
   "metadata": {},
   "outputs": [
    {
     "data": {
      "text/plain": [
       "0          10.0\n",
       "1188699    10.0\n",
       "1188721    10.0\n",
       "1188720    10.0\n",
       "1188717    10.0\n",
       "           ... \n",
       "311724    -14.0\n",
       "9164      -14.0\n",
       "1323805   -15.0\n",
       "313208    -15.0\n",
       "714136    -15.0\n",
       "Name: nutrition-score-fr_100g, Length: 603843, dtype: float64"
      ]
     },
     "execution_count": 212,
     "metadata": {},
     "output_type": "execute_result"
    }
   ],
   "source": [
    "df_openFood_data['nutrition-score-fr_100g'].sort_values(ascending = False)"
   ]
  },
  {
   "cell_type": "markdown",
   "id": "3b02f2fb",
   "metadata": {},
   "source": [
    "Avant"
   ]
  },
  {
   "cell_type": "code",
   "execution_count": 213,
   "id": "7878ce0e",
   "metadata": {},
   "outputs": [
    {
     "data": {
      "text/plain": [
       "67708      75000.0\n",
       "67709      69400.0\n",
       "37164      62500.0\n",
       "321397     39390.0\n",
       "1160607    38000.0\n",
       "            ...   \n",
       "1593186        0.0\n",
       "1593187        0.0\n",
       "199486         0.0\n",
       "943857         0.0\n",
       "393119         0.0\n",
       "Name: salt_100g, Length: 1531985, dtype: float64"
      ]
     },
     "execution_count": 213,
     "metadata": {},
     "output_type": "execute_result"
    }
   ],
   "source": [
    "openFood_data['salt_100g'].sort_values(ascending = False)"
   ]
  },
  {
   "cell_type": "markdown",
   "id": "1599fbba",
   "metadata": {},
   "source": [
    "Après"
   ]
  },
  {
   "cell_type": "code",
   "execution_count": 214,
   "id": "b9aa7d1a",
   "metadata": {},
   "outputs": [
    {
     "data": {
      "text/plain": [
       "1358065    0.93\n",
       "883841     0.93\n",
       "1343463    0.93\n",
       "883944     0.93\n",
       "568969     0.93\n",
       "           ... \n",
       "1418627    0.00\n",
       "1418623    0.00\n",
       "323854     0.00\n",
       "1418591    0.00\n",
       "449062     0.00\n",
       "Name: salt_100g, Length: 603843, dtype: float64"
      ]
     },
     "execution_count": 214,
     "metadata": {},
     "output_type": "execute_result"
    }
   ],
   "source": [
    "df_openFood_data['salt_100g'].sort_values(ascending = False)"
   ]
  },
  {
   "cell_type": "markdown",
   "id": "cfcefd23",
   "metadata": {},
   "source": [
    "Avant"
   ]
  },
  {
   "cell_type": "code",
   "execution_count": 215,
   "id": "472f6b83",
   "metadata": {},
   "outputs": [
    {
     "data": {
      "text/plain": [
       "1755189    1.000000e+14\n",
       "1695073    1.000000e+06\n",
       "1127696    5.670000e+04\n",
       "683652     2.700000e+04\n",
       "1727533    4.466667e+03\n",
       "               ...     \n",
       "1616866    0.000000e+00\n",
       "608870    -5.000000e-01\n",
       "1249749   -5.000000e-01\n",
       "989310    -1.000000e+00\n",
       "1321748   -1.000000e+00\n",
       "Name: sugars_100g, Length: 1531985, dtype: float64"
      ]
     },
     "execution_count": 215,
     "metadata": {},
     "output_type": "execute_result"
    }
   ],
   "source": [
    "openFood_data['sugars_100g'].sort_values(ascending = False)"
   ]
  },
  {
   "cell_type": "markdown",
   "id": "09719aa8",
   "metadata": {},
   "source": [
    "Après"
   ]
  },
  {
   "cell_type": "code",
   "execution_count": 216,
   "id": "ac267285",
   "metadata": {},
   "outputs": [
    {
     "data": {
      "text/plain": [
       "128336     9.38\n",
       "417544     9.38\n",
       "425486     9.38\n",
       "245450     9.38\n",
       "398268     9.38\n",
       "           ... \n",
       "1357185    0.00\n",
       "1357184    0.00\n",
       "366602     0.00\n",
       "1321748   -1.00\n",
       "989310    -1.00\n",
       "Name: sugars_100g, Length: 603843, dtype: float64"
      ]
     },
     "execution_count": 216,
     "metadata": {},
     "output_type": "execute_result"
    }
   ],
   "source": [
    "df_openFood_data['sugars_100g'].sort_values(ascending = False)"
   ]
  },
  {
   "cell_type": "markdown",
   "id": "41c25d7d",
   "metadata": {},
   "source": [
    "### Traitement des valeurs aberrantes - négatives"
   ]
  },
  {
   "cell_type": "code",
   "execution_count": 217,
   "id": "94f81783",
   "metadata": {},
   "outputs": [],
   "source": [
    "df_openFood_dataFinal = df_openFood_data[df_openFood_data.select_dtypes(include=[np.number]).ge(0).all(1)]"
   ]
  },
  {
   "cell_type": "code",
   "execution_count": 219,
   "id": "66573b88",
   "metadata": {},
   "outputs": [
    {
     "data": {
      "text/plain": [
       "255169     9.38\n",
       "377425     9.38\n",
       "138286     9.38\n",
       "417567     9.38\n",
       "73160      9.38\n",
       "           ... \n",
       "1221792    0.00\n",
       "1221793    0.00\n",
       "1221794    0.00\n",
       "1221795    0.00\n",
       "866820     0.00\n",
       "Name: sugars_100g, Length: 537827, dtype: float64"
      ]
     },
     "execution_count": 219,
     "metadata": {},
     "output_type": "execute_result"
    }
   ],
   "source": [
    "df_openFood_dataFinal['sugars_100g'].sort_values(ascending = False)"
   ]
  },
  {
   "cell_type": "code",
   "execution_count": 220,
   "id": "01c809ac",
   "metadata": {},
   "outputs": [
    {
     "data": {
      "text/plain": [
       "0          10.0\n",
       "1232556    10.0\n",
       "1232576    10.0\n",
       "1232575    10.0\n",
       "1232572    10.0\n",
       "           ... \n",
       "365684      0.0\n",
       "1391195     0.0\n",
       "690301      0.0\n",
       "1345397     0.0\n",
       "1717742     0.0\n",
       "Name: nutrition-score-fr_100g, Length: 537827, dtype: float64"
      ]
     },
     "execution_count": 220,
     "metadata": {},
     "output_type": "execute_result"
    }
   ],
   "source": [
    "df_openFood_dataFinal['nutrition-score-fr_100g'].sort_values(ascending = False)"
   ]
  },
  {
   "cell_type": "code",
   "execution_count": 221,
   "id": "d3b6fde0",
   "metadata": {},
   "outputs": [
    {
     "data": {
      "text/plain": [
       "Index(['product_name', 'origins', 'nutriscore_grade', 'additives_n',\n",
       "       'trans-fat_100g', 'sugars_100g', 'ingredients_from_palm_oil_n',\n",
       "       'salt_100g', 'nutrition-score-fr_100g'],\n",
       "      dtype='object')"
      ]
     },
     "execution_count": 221,
     "metadata": {},
     "output_type": "execute_result"
    }
   ],
   "source": [
    " df_openFood_dataFinal.columns"
   ]
  },
  {
   "cell_type": "markdown",
   "id": "b36f0f55",
   "metadata": {},
   "source": [
    "# Sauvegarde dataframe"
   ]
  },
  {
   "cell_type": "code",
   "execution_count": 222,
   "id": "de5be785",
   "metadata": {},
   "outputs": [],
   "source": [
    "#df_openFood_dataFinal.to_csv(\"openFoodV2.csv\", index=False)"
   ]
  }
 ],
 "metadata": {
  "celltoolbar": "Aucun(e)",
  "kernelspec": {
   "display_name": "Python 3 (ipykernel)",
   "language": "python",
   "name": "python3"
  },
  "language_info": {
   "codemirror_mode": {
    "name": "ipython",
    "version": 3
   },
   "file_extension": ".py",
   "mimetype": "text/x-python",
   "name": "python",
   "nbconvert_exporter": "python",
   "pygments_lexer": "ipython3",
   "version": "3.9.7"
  }
 },
 "nbformat": 4,
 "nbformat_minor": 5
}
