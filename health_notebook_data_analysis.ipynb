{
 "cells": [
  {
   "cell_type": "code",
   "execution_count": 2,
   "id": "aa90ed0d",
   "metadata": {},
   "outputs": [],
   "source": [
    "import pandas as pd\n",
    "import numpy as np\n",
    "import matplotlib.pyplot as plt\n",
    "import seaborn as sns\n",
    "from scipy.stats import chi2_contingency\n",
    "from scipy.stats import chi2\n",
    "from scipy import stats\n",
    "import seaborn as sns"
   ]
  },
  {
   "cell_type": "markdown",
   "id": "cbed8d92",
   "metadata": {},
   "source": [
    "# Data loading"
   ]
  },
  {
   "cell_type": "code",
   "execution_count": 3,
   "id": "8f8bd07f",
   "metadata": {},
   "outputs": [],
   "source": [
    "openFood_filtred = pd.read_csv('openFoodV2.csv')"
   ]
  },
  {
   "cell_type": "code",
   "execution_count": 4,
   "id": "9b793229",
   "metadata": {},
   "outputs": [
    {
     "data": {
      "text/plain": [
       "(537827, 9)"
      ]
     },
     "execution_count": 4,
     "metadata": {},
     "output_type": "execute_result"
    }
   ],
   "source": [
    "openFood_filtred.shape"
   ]
  },
  {
   "cell_type": "code",
   "execution_count": 5,
   "id": "9de8b930",
   "metadata": {},
   "outputs": [
    {
     "data": {
      "text/html": [
       "<div>\n",
       "<style scoped>\n",
       "    .dataframe tbody tr th:only-of-type {\n",
       "        vertical-align: middle;\n",
       "    }\n",
       "\n",
       "    .dataframe tbody tr th {\n",
       "        vertical-align: top;\n",
       "    }\n",
       "\n",
       "    .dataframe thead th {\n",
       "        text-align: right;\n",
       "    }\n",
       "</style>\n",
       "<table border=\"1\" class=\"dataframe\">\n",
       "  <thead>\n",
       "    <tr style=\"text-align: right;\">\n",
       "      <th></th>\n",
       "      <th>0</th>\n",
       "    </tr>\n",
       "  </thead>\n",
       "  <tbody>\n",
       "    <tr>\n",
       "      <th>product_name</th>\n",
       "      <td>0.0</td>\n",
       "    </tr>\n",
       "    <tr>\n",
       "      <th>origins</th>\n",
       "      <td>0.0</td>\n",
       "    </tr>\n",
       "    <tr>\n",
       "      <th>nutriscore_grade</th>\n",
       "      <td>0.0</td>\n",
       "    </tr>\n",
       "    <tr>\n",
       "      <th>additives_n</th>\n",
       "      <td>0.0</td>\n",
       "    </tr>\n",
       "    <tr>\n",
       "      <th>trans-fat_100g</th>\n",
       "      <td>0.0</td>\n",
       "    </tr>\n",
       "    <tr>\n",
       "      <th>sugars_100g</th>\n",
       "      <td>0.0</td>\n",
       "    </tr>\n",
       "    <tr>\n",
       "      <th>ingredients_from_palm_oil_n</th>\n",
       "      <td>0.0</td>\n",
       "    </tr>\n",
       "    <tr>\n",
       "      <th>salt_100g</th>\n",
       "      <td>0.0</td>\n",
       "    </tr>\n",
       "    <tr>\n",
       "      <th>nutrition-score-fr_100g</th>\n",
       "      <td>0.0</td>\n",
       "    </tr>\n",
       "  </tbody>\n",
       "</table>\n",
       "</div>"
      ],
      "text/plain": [
       "                               0\n",
       "product_name                 0.0\n",
       "origins                      0.0\n",
       "nutriscore_grade             0.0\n",
       "additives_n                  0.0\n",
       "trans-fat_100g               0.0\n",
       "sugars_100g                  0.0\n",
       "ingredients_from_palm_oil_n  0.0\n",
       "salt_100g                    0.0\n",
       "nutrition-score-fr_100g      0.0"
      ]
     },
     "execution_count": 5,
     "metadata": {},
     "output_type": "execute_result"
    }
   ],
   "source": [
    "openFood_filtred.isna().mean().to_frame()"
   ]
  },
  {
   "cell_type": "code",
   "execution_count": 6,
   "id": "68187e5b",
   "metadata": {
    "scrolled": true
   },
   "outputs": [
    {
     "name": "stdout",
     "output_type": "stream",
     "text": [
      "<class 'pandas.core.frame.DataFrame'>\n",
      "RangeIndex: 537827 entries, 0 to 537826\n",
      "Data columns (total 9 columns):\n",
      " #   Column                       Non-Null Count   Dtype  \n",
      "---  ------                       --------------   -----  \n",
      " 0   product_name                 537827 non-null  object \n",
      " 1   origins                      537827 non-null  object \n",
      " 2   nutriscore_grade             537827 non-null  object \n",
      " 3   additives_n                  537827 non-null  float64\n",
      " 4   trans-fat_100g               537827 non-null  float64\n",
      " 5   sugars_100g                  537827 non-null  float64\n",
      " 6   ingredients_from_palm_oil_n  537827 non-null  float64\n",
      " 7   salt_100g                    537827 non-null  float64\n",
      " 8   nutrition-score-fr_100g      537827 non-null  float64\n",
      "dtypes: float64(6), object(3)\n",
      "memory usage: 36.9+ MB\n"
     ]
    }
   ],
   "source": [
    "openFood_filtred.info()"
   ]
  },
  {
   "cell_type": "markdown",
   "id": "5ae9eb38",
   "metadata": {},
   "source": [
    "# Mode calculation for all variables"
   ]
  },
  {
   "cell_type": "markdown",
   "id": "1d7d3397",
   "metadata": {},
   "source": [
    "Mode calculation for 'sugars_100g'"
   ]
  },
  {
   "cell_type": "code",
   "execution_count": 7,
   "id": "005878e8",
   "metadata": {},
   "outputs": [
    {
     "data": {
      "text/plain": [
       "0    3.8\n",
       "Name: sugars_100g, dtype: float64"
      ]
     },
     "execution_count": 7,
     "metadata": {},
     "output_type": "execute_result"
    }
   ],
   "source": [
    "openFood_filtred['sugars_100g'].mode()"
   ]
  },
  {
   "cell_type": "markdown",
   "id": "787706ea",
   "metadata": {},
   "source": [
    "# Univariate Analysis - Sugar"
   ]
  },
  {
   "cell_type": "markdown",
   "id": "428c9e44",
   "metadata": {},
   "source": [
    "We reduce our analysis to 20 lines to facilitate the display of graphs"
   ]
  },
  {
   "cell_type": "markdown",
   "id": "db722704",
   "metadata": {},
   "source": [
    "Sugar bar chart"
   ]
  },
  {
   "cell_type": "code",
   "execution_count": 8,
   "id": "d10b9d3a",
   "metadata": {},
   "outputs": [],
   "source": [
    "openFood_filtred2 = openFood_filtred.head(20)"
   ]
  },
  {
   "cell_type": "code",
   "execution_count": 9,
   "id": "fe404596",
   "metadata": {},
   "outputs": [],
   "source": [
    "#openFood_filtred2.plot.bar(y='sugars_100g')"
   ]
  },
  {
   "cell_type": "code",
   "execution_count": 10,
   "id": "91cd1746",
   "metadata": {},
   "outputs": [
    {
     "data": {
      "text/plain": [
       "count    537827.000000\n",
       "mean          2.995413\n",
       "std           2.051078\n",
       "min           0.000000\n",
       "25%           1.000000\n",
       "50%           3.800000\n",
       "75%           3.800000\n",
       "max           9.380000\n",
       "Name: sugars_100g, dtype: float64"
      ]
     },
     "execution_count": 10,
     "metadata": {},
     "output_type": "execute_result"
    }
   ],
   "source": [
    "openFood_filtred['sugars_100g'].describe()"
   ]
  },
  {
   "cell_type": "markdown",
   "id": "3524a3c8",
   "metadata": {},
   "source": [
    "Distribution of sugar"
   ]
  },
  {
   "cell_type": "code",
   "execution_count": 11,
   "id": "65f12353",
   "metadata": {},
   "outputs": [
    {
     "data": {
      "text/plain": [
       "<AxesSubplot:title={'center':'Distribution de sugars'}, xlabel='sugars_100g', ylabel='Count'>"
      ]
     },
     "execution_count": 11,
     "metadata": {},
     "output_type": "execute_result"
    },
    {
     "data": {
      "image/png": "[encoded data removed]",
      "text/plain": [
       "<Figure size 432x288 with 1 Axes>"
      ]
     },
     "metadata": {
      "needs_background": "light"
     },
     "output_type": "display_data"
    }
   ],
   "source": [
    "plt.title('Distribution de sugars')\n",
    "sns.histplot(data=openFood_filtred, x=\"sugars_100g\", bins=40, kde=True)\n",
    "#plt.savefig('distrib_sugars.png')"
   ]
  },
  {
   "cell_type": "markdown",
   "id": "8dccc0d9",
   "metadata": {},
   "source": [
    "Sugar Box plot"
   ]
  },
  {
   "cell_type": "code",
   "execution_count": 12,
   "id": "4e1cff53",
   "metadata": {},
   "outputs": [
    {
     "data": {
      "text/plain": [
       "Text(0.5, 1.0, 'Boxplot sucre')"
      ]
     },
     "execution_count": 12,
     "metadata": {},
     "output_type": "execute_result"
    },
    {
     "data": {
      "image/png": "[encoded data removed]",
      "text/plain": [
       "<Figure size 432x432 with 1 Axes>"
      ]
     },
     "metadata": {
      "needs_background": "light"
     },
     "output_type": "display_data"
    }
   ],
   "source": [
    "plt.figure(figsize = (6,6))\n",
    "sucre = openFood_filtred['sugars_100g']\n",
    "plt.boxplot(sucre, patch_artist = True, showmeans=True)\n",
    "#plt.ylim(-3,60)\n",
    "plt.title('Boxplot sucre')\n",
    "#plt.savefig('boxplot_sugars.png')"
   ]
  },
  {
   "cell_type": "markdown",
   "id": "9904ef69",
   "metadata": {},
   "source": [
    "Product containing no sugars"
   ]
  },
  {
   "cell_type": "code",
   "execution_count": 13,
   "id": "75db1182",
   "metadata": {},
   "outputs": [
    {
     "data": {
      "text/plain": [
       "(76119, 9)"
      ]
     },
     "execution_count": 13,
     "metadata": {},
     "output_type": "execute_result"
    }
   ],
   "source": [
    "openFood_filtred[openFood_filtred['sugars_100g'] == 0].shape"
   ]
  },
  {
   "cell_type": "markdown",
   "id": "0159a112",
   "metadata": {},
   "source": [
    "Number of row and column"
   ]
  },
  {
   "cell_type": "code",
   "execution_count": 14,
   "id": "9f69b695",
   "metadata": {},
   "outputs": [
    {
     "data": {
      "text/plain": [
       "(537827, 9)"
      ]
     },
     "execution_count": 14,
     "metadata": {},
     "output_type": "execute_result"
    }
   ],
   "source": [
    "openFood_filtred.shape"
   ]
  },
  {
   "cell_type": "markdown",
   "id": "d4071f7b",
   "metadata": {},
   "source": [
    "# Univariate salt analysis"
   ]
  },
  {
   "cell_type": "code",
   "execution_count": 15,
   "id": "da31a262",
   "metadata": {},
   "outputs": [
    {
     "data": {
      "text/plain": [
       "count    537827.000000\n",
       "mean          0.417636\n",
       "std           0.269657\n",
       "min           0.000000\n",
       "25%           0.100000\n",
       "50%           0.572500\n",
       "75%           0.572500\n",
       "max           0.930000\n",
       "Name: salt_100g, dtype: float64"
      ]
     },
     "execution_count": 15,
     "metadata": {},
     "output_type": "execute_result"
    }
   ],
   "source": [
    "openFood_filtred['salt_100g'].describe()"
   ]
  },
  {
   "cell_type": "markdown",
   "id": "931d5f8f",
   "metadata": {},
   "source": [
    "Distribution of salt"
   ]
  },
  {
   "cell_type": "code",
   "execution_count": 17,
   "id": "552670e1",
   "metadata": {},
   "outputs": [
    {
     "data": {
      "text/plain": [
       "<AxesSubplot:title={'center':'Distribution du salt'}, xlabel='salt_100g', ylabel='Count'>"
      ]
     },
     "execution_count": 17,
     "metadata": {},
     "output_type": "execute_result"
    },
    {
     "data": {
      "image/png": "[encoded data removed]",
      "text/plain": [
       "<Figure size 432x288 with 1 Axes>"
      ]
     },
     "metadata": {
      "needs_background": "light"
     },
     "output_type": "display_data"
    }
   ],
   "source": [
    "plt.title('Distribution of salt')\n",
    "sns.histplot(data=openFood_filtred, x=\"salt_100g\", bins=40, kde=True)"
   ]
  },
  {
   "cell_type": "markdown",
   "id": "1f42bfc6",
   "metadata": {},
   "source": [
    "Salt Box Plot"
   ]
  },
  {
   "cell_type": "code",
   "execution_count": 18,
   "id": "74907b40",
   "metadata": {},
   "outputs": [
    {
     "data": {
      "text/plain": [
       "Text(0.5, 1.0, 'Boxplot sel')"
      ]
     },
     "execution_count": 18,
     "metadata": {},
     "output_type": "execute_result"
    },
    {
     "data": {
      "image/png": "[encoded data removed]",
      "text/plain": [
       "<Figure size 432x288 with 1 Axes>"
      ]
     },
     "metadata": {
      "needs_background": "light"
     },
     "output_type": "display_data"
    }
   ],
   "source": [
    "plt.boxplot(openFood_filtred['salt_100g'], patch_artist = True, showmeans=True)\n",
    "plt.title('Boxplot sel')\n",
    "#plt.savefig('boxplot_salt.png')"
   ]
  },
  {
   "cell_type": "markdown",
   "id": "37a5e7ce",
   "metadata": {},
   "source": [
    "## Univariate nutriscore_grade analysis"
   ]
  },
  {
   "cell_type": "code",
   "execution_count": 19,
   "id": "d83bd97b",
   "metadata": {},
   "outputs": [],
   "source": [
    "openFood_filtred_barplot = openFood_filtred['nutriscore_grade'].value_counts().to_frame()"
   ]
  },
  {
   "cell_type": "code",
   "execution_count": 20,
   "id": "b70ec7e9",
   "metadata": {},
   "outputs": [
    {
     "data": {
      "text/plain": [
       "Index(['product_name', 'origins', 'nutriscore_grade', 'additives_n',\n",
       "       'trans-fat_100g', 'sugars_100g', 'ingredients_from_palm_oil_n',\n",
       "       'salt_100g', 'nutrition-score-fr_100g'],\n",
       "      dtype='object')"
      ]
     },
     "execution_count": 20,
     "metadata": {},
     "output_type": "execute_result"
    }
   ],
   "source": [
    "openFood_filtred.columns"
   ]
  },
  {
   "cell_type": "code",
   "execution_count": 21,
   "id": "7b4ca553",
   "metadata": {},
   "outputs": [
    {
     "data": {
      "text/plain": [
       "(537827, 9)"
      ]
     },
     "execution_count": 21,
     "metadata": {},
     "output_type": "execute_result"
    }
   ],
   "source": [
    "openFood_filtred.shape"
   ]
  },
  {
   "cell_type": "code",
   "execution_count": 22,
   "id": "fcae2f2f",
   "metadata": {},
   "outputs": [
    {
     "data": {
      "text/plain": [
       "<AxesSubplot:>"
      ]
     },
     "execution_count": 22,
     "metadata": {},
     "output_type": "execute_result"
    },
    {
     "data": {
      "image/png": "[encoded data removed]",
      "text/plain": [
       "<Figure size 432x288 with 1 Axes>"
      ]
     },
     "metadata": {
      "needs_background": "light"
     },
     "output_type": "display_data"
    }
   ],
   "source": [
    "openFood_filtred_barplot['nutriscore_grade'].plot(kind='bar')"
   ]
  },
  {
   "cell_type": "markdown",
   "id": "cc67e4f2",
   "metadata": {},
   "source": [
    "# Multivariate Analysis - Sugar and Salt"
   ]
  },
  {
   "cell_type": "markdown",
   "id": "81640fd5",
   "metadata": {},
   "source": [
    "Scatter plot of sugar (sugars_100g) and salt (salt_100g) with outliers"
   ]
  },
  {
   "cell_type": "markdown",
   "id": "f61e9225",
   "metadata": {},
   "source": [
    "Beyond 1000 lines the graph is less readable"
   ]
  },
  {
   "cell_type": "code",
   "execution_count": 23,
   "id": "5878e400",
   "metadata": {},
   "outputs": [],
   "source": [
    "openFood_filtred_mult = openFood_filtred.head(1000)"
   ]
  },
  {
   "cell_type": "code",
   "execution_count": 24,
   "id": "feaf14a2",
   "metadata": {},
   "outputs": [
    {
     "data": {
      "text/plain": [
       "Text(0.5, 1.0, 'Nuage de point sucre et sel')"
      ]
     },
     "execution_count": 24,
     "metadata": {},
     "output_type": "execute_result"
    },
    {
     "data": {
      "image/png": "[encoded data removed]",
      "text/plain": [
       "<Figure size 432x288 with 1 Axes>"
      ]
     },
     "metadata": {
      "needs_background": "light"
     },
     "output_type": "display_data"
    }
   ],
   "source": [
    "sucre = openFood_filtred_mult['sugars_100g']\n",
    "sel = openFood_filtred_mult['salt_100g']\n",
    "sns.regplot(x = sel, y = sucre, ci=None)\n",
    "plt.title('Nuage de point sucre et sel')\n",
    "#plt.savefig('nuage_salt_regression_Oultlier.png')"
   ]
  },
  {
   "cell_type": "markdown",
   "id": "db97e048",
   "metadata": {},
   "source": [
    "# Standardisation mise entre parenthèse"
   ]
  },
  {
   "cell_type": "code",
   "execution_count": 25,
   "id": "6b780fc6",
   "metadata": {},
   "outputs": [],
   "source": [
    "#La standardisation des données ne changent rien à l'affichage \n",
    "#df_std = pd.DataFrame(X_std.tolist())\n",
    "#X_data = openFood_filtred[['sugars_100g','salt_100g']]\n",
    "#std_scale = preprocessing.StandardScaler().fit(X_data)\n",
    "#X_std = std_scale.transform(X_data)"
   ]
  },
  {
   "cell_type": "markdown",
   "id": "9a340b77",
   "metadata": {},
   "source": [
    "# Multivariate Analysis"
   ]
  },
  {
   "cell_type": "markdown",
   "id": "7364e61f",
   "metadata": {},
   "source": [
    "### Multivariate Analysis - Sugar (sugars_100g) and Nutri score (nutriscore_grade) without outlier"
   ]
  },
  {
   "cell_type": "markdown",
   "id": "c232972a",
   "metadata": {},
   "source": [
    "Scatter plot sugar and nutri score without outlier"
   ]
  },
  {
   "cell_type": "code",
   "execution_count": 26,
   "id": "a2b1ec19",
   "metadata": {},
   "outputs": [
    {
     "data": {
      "text/plain": [
       "Text(0.5, 1.0, 'Nuage de point nutriscore FR et du sucre')"
      ]
     },
     "execution_count": 26,
     "metadata": {},
     "output_type": "execute_result"
    },
    {
     "data": {
      "image/png": "[encoded data removed]",
      "text/plain": [
       "<Figure size 432x288 with 1 Axes>"
      ]
     },
     "metadata": {
      "needs_background": "light"
     },
     "output_type": "display_data"
    }
   ],
   "source": [
    "sucre = openFood_filtred_mult['sugars_100g']\n",
    "nutrition = openFood_filtred_mult['nutrition-score-fr_100g']\n",
    "sns.regplot(x = sucre, y = nutrition, ci=None)\n",
    "plt.xlabel('nutrition-score-fr_100g')\n",
    "plt.ylabel('sugars_100g')\n",
    "plt.title('Nuage de point nutriscore FR et du sucre')\n",
    "#plt.savefig('nuage_nutri_fr2.png')\n",
    "#Figure 1 avec openFood_filtred2"
   ]
  },
  {
   "cell_type": "code",
   "execution_count": 27,
   "id": "29605a9b",
   "metadata": {},
   "outputs": [
    {
     "data": {
      "text/plain": [
       "Text(0.5, 1.0, 'Nuage de point nutriscore_grade et du sucre')"
      ]
     },
     "execution_count": 27,
     "metadata": {},
     "output_type": "execute_result"
    },
    {
     "data": {
      "image/png": "[encoded data removed]",
      "text/plain": [
       "<Figure size 432x288 with 1 Axes>"
      ]
     },
     "metadata": {
      "needs_background": "light"
     },
     "output_type": "display_data"
    }
   ],
   "source": [
    "sucre = openFood_filtred_mult['sugars_100g']\n",
    "nutriscore = openFood_filtred_mult['nutriscore_grade']\n",
    "plt.scatter(nutriscore,sucre)\n",
    "plt.xlabel('nutriscore_grade')\n",
    "plt.ylabel('sugars_100g')\n",
    "plt.title('Nuage de point nutriscore_grade et du sucre')\n",
    "#plt.savefig('nuage_nutri_outlier.png')"
   ]
  },
  {
   "cell_type": "markdown",
   "id": "18911135",
   "metadata": {},
   "source": [
    "### Multivariate Analysis - Sugars (sugars_100g) and Nutri score FR (nutrition-score-fr_100g)"
   ]
  },
  {
   "cell_type": "markdown",
   "id": "04f061e2",
   "metadata": {},
   "source": [
    "Scatter plot sugars and nutri score FR 100G"
   ]
  },
  {
   "cell_type": "code",
   "execution_count": 28,
   "id": "0860b354",
   "metadata": {},
   "outputs": [
    {
     "data": {
      "text/plain": [
       "Text(0.5, 1.0, 'Nuage de point nutriscore FR et du sucre')"
      ]
     },
     "execution_count": 28,
     "metadata": {},
     "output_type": "execute_result"
    },
    {
     "data": {
      "image/png": "[encoded data removed]",
      "text/plain": [
       "<Figure size 432x288 with 1 Axes>"
      ]
     },
     "metadata": {
      "needs_background": "light"
     },
     "output_type": "display_data"
    }
   ],
   "source": [
    "sucre = openFood_filtred_mult['sugars_100g']\n",
    "nutrition = openFood_filtred_mult['nutrition-score-fr_100g']\n",
    "sns.regplot(x = sucre, y = nutrition, ci=None)\n",
    "plt.xlabel('nutrition-score-fr_100g')\n",
    "plt.ylabel('sugars_100g')\n",
    "plt.title('Nuage de point nutriscore FR et du sucre')\n",
    "#plt.savefig('nuage_nutri_fr2.png')\n",
    "#Figure 1 avec openFood_filtred2"
   ]
  },
  {
   "cell_type": "code",
   "execution_count": 29,
   "id": "bbd7b47c",
   "metadata": {},
   "outputs": [
    {
     "data": {
      "text/plain": [
       "Text(0.5, 1.0, 'Nuage de point nutriscore FR et du sucre')"
      ]
     },
     "execution_count": 29,
     "metadata": {},
     "output_type": "execute_result"
    },
    {
     "data": {
      "image/png": "[encoded data removed]",
      "text/plain": [
       "<Figure size 432x288 with 1 Axes>"
      ]
     },
     "metadata": {
      "needs_background": "light"
     },
     "output_type": "display_data"
    }
   ],
   "source": [
    "sucre = openFood_filtred['sugars_100g']\n",
    "nutrition = openFood_filtred['trans-fat_100g']\n",
    "sns.regplot(x = sucre, y = nutrition, ci=None)\n",
    "plt.xlabel('nutrition-score-fr_100g')\n",
    "plt.ylabel('sugars_100g')\n",
    "plt.title('Nuage de point nutriscore FR et du sucre')"
   ]
  },
  {
   "cell_type": "markdown",
   "id": "7f14fbc8",
   "metadata": {},
   "source": [
    "# Correlation studies"
   ]
  },
  {
   "cell_type": "markdown",
   "id": "673eee7e",
   "metadata": {},
   "source": [
    "## Pearson - linear correlation"
   ]
  },
  {
   "cell_type": "code",
   "execution_count": 30,
   "id": "cbc844f6",
   "metadata": {},
   "outputs": [],
   "source": [
    "from scipy import stats"
   ]
  },
  {
   "cell_type": "code",
   "execution_count": 31,
   "id": "eeb86da5",
   "metadata": {},
   "outputs": [],
   "source": [
    "X = openFood_filtred_mult.drop(['sugars_100g','product_name','origins','nutriscore_grade'],axis=1)"
   ]
  },
  {
   "cell_type": "code",
   "execution_count": 32,
   "id": "da839a90",
   "metadata": {},
   "outputs": [],
   "source": [
    "Y = openFood_filtred_mult['sugars_100g']"
   ]
  },
  {
   "cell_type": "code",
   "execution_count": 33,
   "id": "383b95ec",
   "metadata": {},
   "outputs": [
    {
     "name": "stdout",
     "output_type": "stream",
     "text": [
      "Coefficient de correlation, p-value (Sucre et additives_n):\n",
      "-0.14379797729412647\n",
      "\n",
      "Coefficient de correlation, p-value (Sucre et trans-fat_100g):\n",
      "nan\n",
      "\n",
      "Coefficient de correlation, p-value (Sucre et ingredients_from_palm_oil_n):\n",
      "nan\n",
      "\n",
      "Coefficient de correlation, p-value (Sucre et salt_100g):\n",
      "0.03868882040784942\n",
      "\n",
      "Coefficient de correlation, p-value (Sucre et nutrition-score-fr_100g):\n",
      "0.08507444729690584\n",
      "\n"
     ]
    },
    {
     "name": "stderr",
     "output_type": "stream",
     "text": [
      "/Users/nax/opt/anaconda3/lib/python3.9/site-packages/scipy/stats/stats.py:4023: PearsonRConstantInputWarning: An input array is constant; the correlation coefficient is not defined.\n",
      "  warnings.warn(PearsonRConstantInputWarning())\n"
     ]
    }
   ],
   "source": [
    "for i in X.columns: \n",
    "    print(\"Coefficient de correlation, p-value (Sucre et \"+i+\"):\\n\"+str(stats.pearsonr(Y, X[i])[0])+\"\\n\")\n",
    "    #print(\"Hypothèse : La variable sucre et la variable \"+i+\" sont non-corrélées\\nCoefficient de correlation, p-value (Sucre et \"+i+\"):\\n\"+str(stats.pearsonr(Y, X[i])[0])+\"\\n\")"
   ]
  },
  {
   "cell_type": "markdown",
   "id": "5d7e67a1",
   "metadata": {},
   "source": [
    "Les features sont peu corrélées"
   ]
  },
  {
   "cell_type": "markdown",
   "id": "3df1431a",
   "metadata": {},
   "source": [
    "La variable sucre et additives_n sont corrélées négativement (anti-corrélées)"
   ]
  },
  {
   "cell_type": "markdown",
   "id": "6295d13e",
   "metadata": {},
   "source": [
    "## Test Chi 2"
   ]
  },
  {
   "cell_type": "markdown",
   "id": "8deee429",
   "metadata": {},
   "source": [
    "Categorical variable - origins and nutriscore_grade"
   ]
  },
  {
   "cell_type": "code",
   "execution_count": 69,
   "id": "e8c741f1",
   "metadata": {},
   "outputs": [],
   "source": [
    "tab_cont = pd.crosstab(openFood_filtred['origins'], openFood_filtred['nutriscore_grade'])\n"
   ]
  },
  {
   "cell_type": "code",
   "execution_count": 72,
   "id": "cb742bea",
   "metadata": {},
   "outputs": [
    {
     "data": {
      "text/plain": [
       "'0.00000000'"
      ]
     },
     "execution_count": 72,
     "metadata": {},
     "output_type": "execute_result"
    }
   ],
   "source": [
    "stat_chi2, p, dof, expected_table = chi2_contingency(tab_cont.values)\n",
    "format(p, '.8f')"
   ]
  },
  {
   "cell_type": "code",
   "execution_count": 73,
   "id": "30efcca1",
   "metadata": {},
   "outputs": [],
   "source": [
    "# p<=alpha=0,05\n",
    "# Hypothèse : il y a une correlation entre le sel et le sucre \n",
    "#Thèse\n",
    "#donc je peux faire confiance à ma solution\n",
    "#Rajouter Hypothèse et conclusion\n",
    "\n",
    "#format(p, '.8f')\n"
   ]
  },
  {
   "cell_type": "markdown",
   "id": "2a9bf7a2",
   "metadata": {},
   "source": [
    "alpha = 0,05"
   ]
  },
  {
   "cell_type": "markdown",
   "id": "dd2faa36",
   "metadata": {},
   "source": [
    "p < alpha"
   ]
  },
  {
   "cell_type": "markdown",
   "id": "a4da736f",
   "metadata": {},
   "source": [
    "H0 is rejected"
   ]
  },
  {
   "cell_type": "markdown",
   "id": "4944fa22",
   "metadata": {},
   "source": [
    "So I can trust my solution"
   ]
  },
  {
   "cell_type": "markdown",
   "id": "06c2cd12",
   "metadata": {},
   "source": [
    "## ANOVA\n",
    "H0 : variables sugars_100g and nutriscore_grade are independents\n"
   ]
  },
  {
   "cell_type": "markdown",
   "id": "1290fc62",
   "metadata": {},
   "source": [
    "H1 : variables sugars_100g and nutriscore_grade are dependents"
   ]
  },
  {
   "cell_type": "code",
   "execution_count": 53,
   "id": "c8b34da9",
   "metadata": {},
   "outputs": [],
   "source": [
    "def eta_squared(x,y):\n",
    "    moyenne_y = y.mean()\n",
    "    classes = []\n",
    "    for classe in x.unique():\n",
    "        yi_classe = y[x==classe]\n",
    "        classes.append({'ni': len(yi_classe),\n",
    "                        'moyenne_classe': yi_classe.mean()})\n",
    "    SCT = sum([(yj-moyenne_y)**2 for yj in y])\n",
    "    SCE = sum([c['ni']*(c['moyenne_classe']-moyenne_y)**2 for c in classes])\n",
    "    return SCE/SCT"
   ]
  },
  {
   "cell_type": "code",
   "execution_count": 66,
   "id": "522ea05e",
   "metadata": {},
   "outputs": [],
   "source": [
    "p = eta_squared(openFood_filtred['nutriscore_grade'],openFood_filtred['sugars_100g'])"
   ]
  },
  {
   "cell_type": "code",
   "execution_count": 67,
   "id": "416a813a",
   "metadata": {},
   "outputs": [],
   "source": [
    "#k2, p = stats.normaltest(openFood_filtred['sugars_100g'], axis=0,nan_policy = 'omit')\n"
   ]
  },
  {
   "cell_type": "code",
   "execution_count": 68,
   "id": "9f4bd63d",
   "metadata": {},
   "outputs": [
    {
     "data": {
      "text/plain": [
       "'0.00001276'"
      ]
     },
     "execution_count": 68,
     "metadata": {},
     "output_type": "execute_result"
    }
   ],
   "source": [
    "alpha = 0.05\n",
    "p\n",
    "format(p, '.8f')\n"
   ]
  },
  {
   "cell_type": "markdown",
   "id": "3c4a70a5",
   "metadata": {},
   "source": [
    "p < alpha the null hypothesis is rejected"
   ]
  },
  {
   "cell_type": "markdown",
   "id": "f4e610f7",
   "metadata": {},
   "source": [
    "nutriscore_grade variable affects sugars_100g variable\n"
   ]
  },
  {
   "cell_type": "markdown",
   "id": "8a781ae7",
   "metadata": {},
   "source": [
    "## HeatMap"
   ]
  },
  {
   "cell_type": "code",
   "execution_count": 38,
   "id": "0d4392c7",
   "metadata": {},
   "outputs": [],
   "source": [
    "X_data = openFood_filtred[['additives_n','trans-fat_100g','sugars_100g','salt_100g','nutrition-score-fr_100g']]            "
   ]
  },
  {
   "cell_type": "code",
   "execution_count": 42,
   "id": "5d6937ad",
   "metadata": {},
   "outputs": [
    {
     "data": {
      "image/png": "[encoded data removed]",
      "text/plain": [
       "<Figure size 432x288 with 2 Axes>"
      ]
     },
     "metadata": {
      "needs_background": "light"
     },
     "output_type": "display_data"
    }
   ],
   "source": [
    "plt.title('Heat Map')\n",
    "\n",
    "heat = X_data.corr()\n",
    "\n",
    "mask = np.zeros_like(heat , dtype=bool)\n",
    "mask[np.triu_indices_from(mask)] = True \n",
    "\n",
    "ax = sns.heatmap(heat , mask=mask, vmin=-1, cmap='coolwarm')\n",
    "plt.show()"
   ]
  },
  {
   "cell_type": "markdown",
   "id": "d0b76486",
   "metadata": {},
   "source": [
    "## ACP"
   ]
  },
  {
   "cell_type": "markdown",
   "id": "bf0fd2f3",
   "metadata": {},
   "source": [
    "Data standardization"
   ]
  },
  {
   "cell_type": "code",
   "execution_count": 65,
   "id": "e3bc8b8c",
   "metadata": {},
   "outputs": [
    {
     "data": {
      "text/plain": [
       "additives_n                0.0\n",
       "trans-fat_100g             0.0\n",
       "sugars_100g                0.0\n",
       "salt_100g                  0.0\n",
       "nutrition-score-fr_100g    0.0\n",
       "dtype: float64"
      ]
     },
     "execution_count": 65,
     "metadata": {},
     "output_type": "execute_result"
    }
   ],
   "source": [
    "X_data.isna().mean()"
   ]
  },
  {
   "cell_type": "code",
   "execution_count": 66,
   "id": "f1491d38",
   "metadata": {},
   "outputs": [],
   "source": [
    "feature = ['additives_n','trans-fat_100g','sugars_100g','salt_100g','nutrition-score-fr_100g']"
   ]
  },
  {
   "cell_type": "markdown",
   "id": "4f158bf7",
   "metadata": {},
   "source": [
    "Principal component calculation"
   ]
  },
  {
   "cell_type": "code",
   "execution_count": 67,
   "id": "98620526",
   "metadata": {},
   "outputs": [],
   "source": [
    "from sklearn import decomposition,preprocessing"
   ]
  },
  {
   "cell_type": "code",
   "execution_count": 68,
   "id": "58d4d7bd",
   "metadata": {},
   "outputs": [],
   "source": [
    "X_scaled = preprocessing.StandardScaler().fit_transform(X_data)\n",
    "pca = decomposition.PCA(n_components=5)\n",
    "X_projected = pca.fit_transform(X_scaled)"
   ]
  },
  {
   "cell_type": "code",
   "execution_count": 69,
   "id": "cd3a73ca",
   "metadata": {},
   "outputs": [
    {
     "data": {
      "text/html": [
       "<div>\n",
       "<style scoped>\n",
       "    .dataframe tbody tr th:only-of-type {\n",
       "        vertical-align: middle;\n",
       "    }\n",
       "\n",
       "    .dataframe tbody tr th {\n",
       "        vertical-align: top;\n",
       "    }\n",
       "\n",
       "    .dataframe thead th {\n",
       "        text-align: right;\n",
       "    }\n",
       "</style>\n",
       "<table border=\"1\" class=\"dataframe\">\n",
       "  <thead>\n",
       "    <tr style=\"text-align: right;\">\n",
       "      <th></th>\n",
       "      <th>F1</th>\n",
       "      <th>F2</th>\n",
       "      <th>F3</th>\n",
       "      <th>F4</th>\n",
       "      <th>F5</th>\n",
       "    </tr>\n",
       "  </thead>\n",
       "  <tbody>\n",
       "    <tr>\n",
       "      <th>0</th>\n",
       "      <td>-0.819521</td>\n",
       "      <td>0.287892</td>\n",
       "      <td>0.119218</td>\n",
       "      <td>0.163202</td>\n",
       "      <td>-1.112016e-17</td>\n",
       "    </tr>\n",
       "    <tr>\n",
       "      <th>1</th>\n",
       "      <td>-0.819521</td>\n",
       "      <td>0.287892</td>\n",
       "      <td>0.119218</td>\n",
       "      <td>0.163202</td>\n",
       "      <td>1.872486e-14</td>\n",
       "    </tr>\n",
       "    <tr>\n",
       "      <th>2</th>\n",
       "      <td>-0.819521</td>\n",
       "      <td>0.287892</td>\n",
       "      <td>0.119218</td>\n",
       "      <td>0.163202</td>\n",
       "      <td>-2.200273e-20</td>\n",
       "    </tr>\n",
       "    <tr>\n",
       "      <th>3</th>\n",
       "      <td>-0.819521</td>\n",
       "      <td>0.287892</td>\n",
       "      <td>0.119218</td>\n",
       "      <td>0.163202</td>\n",
       "      <td>-2.200273e-20</td>\n",
       "    </tr>\n",
       "    <tr>\n",
       "      <th>4</th>\n",
       "      <td>-0.819521</td>\n",
       "      <td>0.287892</td>\n",
       "      <td>0.119218</td>\n",
       "      <td>0.163202</td>\n",
       "      <td>-2.200273e-20</td>\n",
       "    </tr>\n",
       "    <tr>\n",
       "      <th>...</th>\n",
       "      <td>...</td>\n",
       "      <td>...</td>\n",
       "      <td>...</td>\n",
       "      <td>...</td>\n",
       "      <td>...</td>\n",
       "    </tr>\n",
       "    <tr>\n",
       "      <th>537822</th>\n",
       "      <td>0.100156</td>\n",
       "      <td>-0.530283</td>\n",
       "      <td>-1.604001</td>\n",
       "      <td>0.012460</td>\n",
       "      <td>1.458153e-20</td>\n",
       "    </tr>\n",
       "    <tr>\n",
       "      <th>537823</th>\n",
       "      <td>-0.819521</td>\n",
       "      <td>0.287892</td>\n",
       "      <td>0.119218</td>\n",
       "      <td>0.163202</td>\n",
       "      <td>-2.200273e-20</td>\n",
       "    </tr>\n",
       "    <tr>\n",
       "      <th>537824</th>\n",
       "      <td>-0.565320</td>\n",
       "      <td>-0.852913</td>\n",
       "      <td>1.133000</td>\n",
       "      <td>-0.157639</td>\n",
       "      <td>-7.753353e-21</td>\n",
       "    </tr>\n",
       "    <tr>\n",
       "      <th>537825</th>\n",
       "      <td>-0.594101</td>\n",
       "      <td>1.230675</td>\n",
       "      <td>-2.165762</td>\n",
       "      <td>0.475223</td>\n",
       "      <td>-1.820737e-20</td>\n",
       "    </tr>\n",
       "    <tr>\n",
       "      <th>537826</th>\n",
       "      <td>-0.819521</td>\n",
       "      <td>0.287892</td>\n",
       "      <td>0.119218</td>\n",
       "      <td>0.163202</td>\n",
       "      <td>-2.200273e-20</td>\n",
       "    </tr>\n",
       "  </tbody>\n",
       "</table>\n",
       "<p>537827 rows × 5 columns</p>\n",
       "</div>"
      ],
      "text/plain": [
       "              F1        F2        F3        F4            F5\n",
       "0      -0.819521  0.287892  0.119218  0.163202 -1.112016e-17\n",
       "1      -0.819521  0.287892  0.119218  0.163202  1.872486e-14\n",
       "2      -0.819521  0.287892  0.119218  0.163202 -2.200273e-20\n",
       "3      -0.819521  0.287892  0.119218  0.163202 -2.200273e-20\n",
       "4      -0.819521  0.287892  0.119218  0.163202 -2.200273e-20\n",
       "...          ...       ...       ...       ...           ...\n",
       "537822  0.100156 -0.530283 -1.604001  0.012460  1.458153e-20\n",
       "537823 -0.819521  0.287892  0.119218  0.163202 -2.200273e-20\n",
       "537824 -0.565320 -0.852913  1.133000 -0.157639 -7.753353e-21\n",
       "537825 -0.594101  1.230675 -2.165762  0.475223 -1.820737e-20\n",
       "537826 -0.819521  0.287892  0.119218  0.163202 -2.200273e-20\n",
       "\n",
       "[537827 rows x 5 columns]"
      ]
     },
     "execution_count": 69,
     "metadata": {},
     "output_type": "execute_result"
    }
   ],
   "source": [
    "pd.DataFrame(X_projected, columns=[\"F\"+str(i+1) for i in range(5)])"
   ]
  },
  {
   "cell_type": "markdown",
   "id": "242f00c3",
   "metadata": {},
   "source": [
    "Link between main components and features"
   ]
  },
  {
   "cell_type": "code",
   "execution_count": 70,
   "id": "4038d0b1",
   "metadata": {},
   "outputs": [
    {
     "data": {
      "text/plain": [
       "array([-5.79821105e-01,  1.11022302e-16, -2.32434761e-01, -4.33182944e-01,\n",
       "       -6.49718482e-01])"
      ]
     },
     "execution_count": 70,
     "metadata": {},
     "output_type": "execute_result"
    }
   ],
   "source": [
    "pca.components_[0]"
   ]
  },
  {
   "cell_type": "code",
   "execution_count": 71,
   "id": "2ae9750d",
   "metadata": {},
   "outputs": [],
   "source": [
    "df_acp_sante = pd.DataFrame()"
   ]
  },
  {
   "cell_type": "code",
   "execution_count": 72,
   "id": "a4877496",
   "metadata": {},
   "outputs": [],
   "source": [
    "for u in range(5):\n",
    "    df_acp_sante[\"F\"+str(u+1)] = pca.components_[u].tolist()"
   ]
  },
  {
   "cell_type": "code",
   "execution_count": 73,
   "id": "230a7d6d",
   "metadata": {},
   "outputs": [
    {
     "data": {
      "text/html": [
       "<div>\n",
       "<style scoped>\n",
       "    .dataframe tbody tr th:only-of-type {\n",
       "        vertical-align: middle;\n",
       "    }\n",
       "\n",
       "    .dataframe tbody tr th {\n",
       "        vertical-align: top;\n",
       "    }\n",
       "\n",
       "    .dataframe thead th {\n",
       "        text-align: right;\n",
       "    }\n",
       "</style>\n",
       "<table border=\"1\" class=\"dataframe\">\n",
       "  <thead>\n",
       "    <tr style=\"text-align: right;\">\n",
       "      <th></th>\n",
       "      <th>F1</th>\n",
       "      <th>F2</th>\n",
       "      <th>F3</th>\n",
       "      <th>F4</th>\n",
       "      <th>F5</th>\n",
       "    </tr>\n",
       "  </thead>\n",
       "  <tbody>\n",
       "    <tr>\n",
       "      <th>additives_n</th>\n",
       "      <td>-5.798211e-01</td>\n",
       "      <td>-4.511207e-01</td>\n",
       "      <td>-1.530778e-01</td>\n",
       "      <td>0.660957</td>\n",
       "      <td>-1.717610e-17</td>\n",
       "    </tr>\n",
       "    <tr>\n",
       "      <th>trans-fat_100g</th>\n",
       "      <td>1.110223e-16</td>\n",
       "      <td>4.163336e-17</td>\n",
       "      <td>-9.020562e-17</td>\n",
       "      <td>0.000000</td>\n",
       "      <td>1.000000e+00</td>\n",
       "    </tr>\n",
       "    <tr>\n",
       "      <th>sugars_100g</th>\n",
       "      <td>-2.324348e-01</td>\n",
       "      <td>7.930429e-01</td>\n",
       "      <td>-5.195684e-01</td>\n",
       "      <td>0.217038</td>\n",
       "      <td>-3.469447e-17</td>\n",
       "    </tr>\n",
       "    <tr>\n",
       "      <th>salt_100g</th>\n",
       "      <td>-4.331829e-01</td>\n",
       "      <td>3.853739e-01</td>\n",
       "      <td>8.116639e-01</td>\n",
       "      <td>0.071002</td>\n",
       "      <td>5.551115e-17</td>\n",
       "    </tr>\n",
       "    <tr>\n",
       "      <th>nutrition-score-fr_100g</th>\n",
       "      <td>-6.497185e-01</td>\n",
       "      <td>-1.380580e-01</td>\n",
       "      <td>-2.186723e-01</td>\n",
       "      <td>-0.714834</td>\n",
       "      <td>0.000000e+00</td>\n",
       "    </tr>\n",
       "  </tbody>\n",
       "</table>\n",
       "</div>"
      ],
      "text/plain": [
       "                                   F1            F2            F3        F4  \\\n",
       "additives_n             -5.798211e-01 -4.511207e-01 -1.530778e-01  0.660957   \n",
       "trans-fat_100g           1.110223e-16  4.163336e-17 -9.020562e-17  0.000000   \n",
       "sugars_100g             -2.324348e-01  7.930429e-01 -5.195684e-01  0.217038   \n",
       "salt_100g               -4.331829e-01  3.853739e-01  8.116639e-01  0.071002   \n",
       "nutrition-score-fr_100g -6.497185e-01 -1.380580e-01 -2.186723e-01 -0.714834   \n",
       "\n",
       "                                   F5  \n",
       "additives_n             -1.717610e-17  \n",
       "trans-fat_100g           1.000000e+00  \n",
       "sugars_100g             -3.469447e-17  \n",
       "salt_100g                5.551115e-17  \n",
       "nutrition-score-fr_100g  0.000000e+00  "
      ]
     },
     "execution_count": 73,
     "metadata": {},
     "output_type": "execute_result"
    }
   ],
   "source": [
    "df_acp_sante.set_axis(feature, axis='index')"
   ]
  },
  {
   "cell_type": "markdown",
   "id": "64d72fa4",
   "metadata": {},
   "source": [
    "Graphic Dial"
   ]
  },
  {
   "cell_type": "markdown",
   "id": "7bfa37f0",
   "metadata": {},
   "source": [
    "After projection, we see a relationship between nutrition-score-fr_100g and additives_n"
   ]
  },
  {
   "cell_type": "code",
   "execution_count": 74,
   "id": "d11e930a",
   "metadata": {},
   "outputs": [
    {
     "data": {
      "text/plain": [
       "(-0.85, 0.85)"
      ]
     },
     "execution_count": 74,
     "metadata": {},
     "output_type": "execute_result"
    },
    {
     "data": {
      "image/png": "[encoded data removed]",
      "text/plain": [
       "<Figure size 864x864 with 1 Axes>"
      ]
     },
     "metadata": {
      "needs_background": "light"
     },
     "output_type": "display_data"
    }
   ],
   "source": [
    "pcs = pca.components_\n",
    "plt.figure(figsize=(12,12))\n",
    "plt.xlabel('F2')\n",
    "plt.ylabel('F1')\n",
    "plt.title('PCA - Representation in space (F1,F2)')\n",
    "for i, (x, y) in enumerate(zip(pcs[0, :], pcs[1, :])):\n",
    "    # Display a segment from origin to the point (x, y)\n",
    "    plt.plot([0, x], [0, y], color='k')\n",
    "    # Display the name of the feature (df_data_all.columns[i])\n",
    "    plt.text(x, y, X_data.columns[i], fontsize='15')\n",
    "\n",
    "# Display an horizontal line y=0\n",
    "plt.plot([-0.85, 0.85], [0, 0], color='grey', ls='--')\n",
    "\n",
    "# Display vertical line x=0\n",
    "plt.plot([0, 0], [-0.85, 0.85], color='grey', ls='--')\n",
    "\n",
    "#plt.xlim([-0.7, 0.7])\n",
    "#plt.ylim([-0.7, 0.7])\n",
    "plt.xlim([-0.85, 0.85])\n",
    "plt.ylim([-0.85, 0.85])\n",
    "#plt.savefig('Cadran_Pca.png')"
   ]
  },
  {
   "cell_type": "code",
   "execution_count": 75,
   "id": "b70269e6",
   "metadata": {},
   "outputs": [
    {
     "data": {
      "text/plain": [
       "Text(0.5, 1.0, 'Diagramme de Pareto - Ebouli')"
      ]
     },
     "execution_count": 75,
     "metadata": {},
     "output_type": "execute_result"
    },
    {
     "data": {
      "image/png": "[encoded data removed]",
      "text/plain": [
       "<Figure size 720x360 with 1 Axes>"
      ]
     },
     "metadata": {
      "needs_background": "light"
     },
     "output_type": "display_data"
    }
   ],
   "source": [
    "#Diagramme de Pareto - Ebouli\n",
    "fig = plt.figure(figsize = (10, 5))\n",
    "x = np.arange(1, len(X_data.columns)+1, step=1)\n",
    "y = pca.explained_variance_ratio_\n",
    "#Affiche le bar chart\n",
    "plt.bar(np.arange(1, len(X_data.columns)+1, step=1),pca.explained_variance_ratio_)\n",
    "#Affiche la courbe sommée\n",
    "plt.plot(x,np.cumsum(pca.explained_variance_ratio_), marker='o')\n",
    "plt.xticks(np.arange(0, len(X_data.columns)+1, step=1))\n",
    "plt.ylabel('Pourcentage d’inertie (%)')\n",
    "plt.xlabel('Rang de l’axe d’inertie')\n",
    "plt.title('Diagramme de Pareto - Ebouli')\n",
    "#plt.savefig('Ebouli.png')"
   ]
  }
 ],
 "metadata": {
  "celltoolbar": "Aucun(e)",
  "kernelspec": {
   "display_name": "Python 3 (ipykernel)",
   "language": "python",
   "name": "python3"
  },
  "language_info": {
   "codemirror_mode": {
    "name": "ipython",
    "version": 3
   },
   "file_extension": ".py",
   "mimetype": "text/x-python",
   "name": "python",
   "nbconvert_exporter": "python",
   "pygments_lexer": "ipython3",
   "version": "3.9.7"
  }
 },
 "nbformat": 4,
 "nbformat_minor": 5
}
